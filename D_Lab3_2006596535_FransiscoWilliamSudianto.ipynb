{
  "cells": [
    {
      "cell_type": "markdown",
      "metadata": {
        "id": "TKTOBclz75se"
      },
      "source": [
        "<center>\n",
        "<img src=\"https://drive.google.com/uc?id=1f1gGVI-rxcHjA90WEGNvvtSXF1pAxQwg\" alt=\"Fasilkom UI\" width=\"300\"/>\n",
        "\n",
        "CSGE603130 • Kecerdasan Artifisial dan Sains Data Dasar\n",
        "\n",
        "Semester Gasal 2022/2023\n",
        "\n",
        "Fakultas Ilmu Komputer, Universitas Indonesia\n",
        "\n",
        "##**Lab 3: *Data Preprocessing & Dimensionality Reduction***\n",
        "\n",
        "###**Tenggat Waktu: 24 September  2022, 23.55 WIB**\n",
        "</center>\n",
        "\n",
        "####**Ketentuan:**\n",
        "\n",
        "1. Dokumen *template* lab dengan format .ipynb dan dataset (jika dibutuhkan) telah disediakan di SCeLe\n",
        "2. Jalankan kode pada dokumen .ipynb dan perhatikan dengan saksama apa yang potongan kode tersebut lakukan beserta dengan keluarannya. Jawablah **pertanyaan yang disisipkan** pada potongan program yang diberikan.\n",
        "3. Dokumen Jupyter Notebook yang telah dilengkapi dengan jawaban dikumpulkan dengan format penamaan **Kelas_Lab3_NPM_Nama.ipynb**. Contoh: A_Lab3_2006123456_Budi.ipynb\n",
        "4. Kumpulkan dokumen tersebut pada submisi yang telah disediakan di SCeLe sesuai dengan kelas masing-masing sebelum **24 September 2022, 23.55 WIB**. Keterlambatan pengumpulan akan dikenakan pinalti.\n",
        "5. Lab ini dirancang sebagai **tugas mandiri**. Plagiarisme tidak diperkenankan dalam bentuk apapun. Adapun kolaborasi berupa diskusi (tanpa menyalin maupun mengambil jawaban orang lain) dan literasi masih diperbolehkan dengan mencantumkan kolaborator dan sumber.\n"
      ]
    },
    {
      "cell_type": "markdown",
      "metadata": {
        "id": "HloCaoZB8Hdr"
      },
      "source": [
        "## **Pernyataan Integritas**\n",
        "\n",
        "Wajib diisi. Tanpa pernyataan integritas submisi akan dikenakan pinalti."
      ]
    },
    {
      "cell_type": "code",
      "execution_count": 54,
      "metadata": {
        "id": "hFvDp8qSz-RU"
      },
      "outputs": [],
      "source": [
        "# Isi dengan data diri Anda\n",
        "NAMA = \"Fransisco William Sudianto\"\n",
        "KELAS = \"D\"\n",
        "NPM = \"2006596535\"\n",
        "\n",
        "# Isi dengan NPM teman yang berdiskusi dengan Anda\n",
        "KOLABORATOR = []\n",
        "\n",
        "# Isi dengan sumber referensi yang Anda gunakan dalam mengerjakan\n",
        "REFERENSI = []"
      ]
    },
    {
      "cell_type": "code",
      "execution_count": 55,
      "metadata": {
        "colab": {
          "base_uri": "https://localhost:8080/"
        },
        "id": "y-k0CCamOkcZ",
        "outputId": "7725a1d8-42fd-4fc8-b6c6-78f1bbd34020"
      },
      "outputs": [
        {
          "name": "stdout",
          "output_type": "stream",
          "text": [
            "Saya, Fransisco William Sudianto dari kelas D dengan NPM 2006596535, menyatakan bahwa seluruh jawaban pada pekerjaan ini murni saya kerjakan sendiri.\n",
            "Saya tidak mencontek jawaban, memberikan jawaban, maupun menyalin dari sumber manapun.\n",
            " \n",
            "Jika saya melanggar pernyataan tersebut, saya siap menerima konsekuensi apapun yang diberikan.\n",
            "   (Fransisco William Sudianto)\n"
          ]
        }
      ],
      "source": [
        "PERNYATAAN_INTEGRITAS = \"Saya, %s dari kelas %s dengan NPM %s, menyatakan bahwa seluruh jawaban pada pekerjaan ini murni saya kerjakan sendiri.\\n\\\n",
        "Saya tidak mencontek jawaban, memberikan jawaban, maupun menyalin dari sumber manapun.\\n \\\n",
        "\\n\\\n",
        "Jika saya melanggar pernyataan tersebut, saya siap menerima konsekuensi apapun yang diberikan.\\n   \\\n",
        "(%s)\" % (NAMA, KELAS, NPM, NAMA)\n",
        "\n",
        "print(PERNYATAAN_INTEGRITAS)"
      ]
    },
    {
      "cell_type": "markdown",
      "metadata": {
        "id": "b-rPY0F5Vevh"
      },
      "source": [
        "## **Preprocessing pada Car Price Dataset**\n",
        "\n",
        "Sumber: https://www.kaggle.com/datasets/hellbuoy/car-price-prediction, dengan beberapa perubahan\n"
      ]
    },
    {
      "cell_type": "markdown",
      "metadata": {
        "id": "j9pb-VsmOVFs"
      },
      "source": [
        "### **Variable Descriptions:**\n",
        "\n",
        "- `CarName`: nama jenis mobil\n",
        "- `fueltype`: jenis bahan bakar \n",
        "- `aspiration`: tipe mesin mobil (naturally aspirated atau turbo)\n",
        "- `doornumber`: jumlah pintu mobil\n",
        "- `driverwheel`: sistem kemudi roda mobil\n",
        "- `carbody`: style mobil\n",
        "- `enginelocation`: letak mesin mobil\n",
        "- `wheelbase`: jarak antar roda depan dan roda belakang mobil dalam inch\n",
        "- `carlenght`: panjang mobil\n",
        "- `carwidth`: lebar mobil\n",
        "- `enginetype`: tipe mesin mobil\n",
        "- `cylindernumber`: jumlah cylinder\n",
        "- `enginesize`: ukuran mesin\n",
        "- `fuelsystem`: sistem bahan bakar\n",
        "- `compressionratio`: rasio kompresi mobil\n",
        "- `horsepower`: horsepower mobil\n",
        "- `peakrpm`: batas rpm\n",
        "- `citympg`: mpg di kota\n",
        "- `highwaympg`: mpg di highway\n",
        "\n",
        "\n",
        "Target variable — `price`: harga mobil"
      ]
    },
    {
      "cell_type": "markdown",
      "metadata": {
        "id": "ThEcWldxOVFe"
      },
      "source": [
        "### Import Library dan Data"
      ]
    },
    {
      "cell_type": "code",
      "execution_count": 56,
      "metadata": {
        "id": "o0LtLOPfOVFl"
      },
      "outputs": [],
      "source": [
        "import pandas as pd\n",
        "import numpy as np\n",
        "\n",
        "import matplotlib.pyplot as plt\n",
        "import seaborn as sns\n",
        "import scipy.stats as scp\n",
        "\n",
        "from sklearn.preprocessing import LabelEncoder, Normalizer, StandardScaler"
      ]
    },
    {
      "cell_type": "code",
      "execution_count": 57,
      "metadata": {
        "colab": {
          "base_uri": "https://localhost:8080/",
          "height": 540
        },
        "id": "jJsIcJGWOVFo",
        "outputId": "f287fc5e-dede-4c63-efcb-b01935f14864"
      },
      "outputs": [
        {
          "data": {
            "text/html": [
              "<div>\n",
              "<style scoped>\n",
              "    .dataframe tbody tr th:only-of-type {\n",
              "        vertical-align: middle;\n",
              "    }\n",
              "\n",
              "    .dataframe tbody tr th {\n",
              "        vertical-align: top;\n",
              "    }\n",
              "\n",
              "    .dataframe thead th {\n",
              "        text-align: right;\n",
              "    }\n",
              "</style>\n",
              "<table border=\"1\" class=\"dataframe\">\n",
              "  <thead>\n",
              "    <tr style=\"text-align: right;\">\n",
              "      <th></th>\n",
              "      <th>CarName</th>\n",
              "      <th>fueltype</th>\n",
              "      <th>aspiration</th>\n",
              "      <th>doornumber</th>\n",
              "      <th>carbody</th>\n",
              "      <th>drivewheel</th>\n",
              "      <th>enginelocation</th>\n",
              "      <th>wheelbase</th>\n",
              "      <th>carlength</th>\n",
              "      <th>carwidth</th>\n",
              "      <th>...</th>\n",
              "      <th>enginetype</th>\n",
              "      <th>cylindernumber</th>\n",
              "      <th>enginesize</th>\n",
              "      <th>fuelsystem</th>\n",
              "      <th>compressionratio</th>\n",
              "      <th>horsepower</th>\n",
              "      <th>peakrpm</th>\n",
              "      <th>citympg</th>\n",
              "      <th>highwaympg</th>\n",
              "      <th>price</th>\n",
              "    </tr>\n",
              "  </thead>\n",
              "  <tbody>\n",
              "    <tr>\n",
              "      <th>0</th>\n",
              "      <td>alfa-romero</td>\n",
              "      <td>gas</td>\n",
              "      <td>std</td>\n",
              "      <td>2.0</td>\n",
              "      <td>convertible</td>\n",
              "      <td>rwd</td>\n",
              "      <td>front</td>\n",
              "      <td>88.6</td>\n",
              "      <td>168.8</td>\n",
              "      <td>64.1</td>\n",
              "      <td>...</td>\n",
              "      <td>dohc</td>\n",
              "      <td>4.0</td>\n",
              "      <td>130</td>\n",
              "      <td>mpfi</td>\n",
              "      <td>9.0</td>\n",
              "      <td>111</td>\n",
              "      <td>5000</td>\n",
              "      <td>21</td>\n",
              "      <td>27</td>\n",
              "      <td>13495.0</td>\n",
              "    </tr>\n",
              "    <tr>\n",
              "      <th>1</th>\n",
              "      <td>alfa-romero</td>\n",
              "      <td>gas</td>\n",
              "      <td>std</td>\n",
              "      <td>2.0</td>\n",
              "      <td>convertible</td>\n",
              "      <td>rwd</td>\n",
              "      <td>front</td>\n",
              "      <td>88.6</td>\n",
              "      <td>168.8</td>\n",
              "      <td>64.1</td>\n",
              "      <td>...</td>\n",
              "      <td>dohc</td>\n",
              "      <td>4.0</td>\n",
              "      <td>130</td>\n",
              "      <td>mpfi</td>\n",
              "      <td>9.0</td>\n",
              "      <td>111</td>\n",
              "      <td>5000</td>\n",
              "      <td>21</td>\n",
              "      <td>27</td>\n",
              "      <td>16500.0</td>\n",
              "    </tr>\n",
              "    <tr>\n",
              "      <th>2</th>\n",
              "      <td>alfa-romero</td>\n",
              "      <td>gas</td>\n",
              "      <td>std</td>\n",
              "      <td>2.0</td>\n",
              "      <td>hatchback</td>\n",
              "      <td>rwd</td>\n",
              "      <td>front</td>\n",
              "      <td>94.5</td>\n",
              "      <td>171.2</td>\n",
              "      <td>65.5</td>\n",
              "      <td>...</td>\n",
              "      <td>ohcv</td>\n",
              "      <td>6.0</td>\n",
              "      <td>152</td>\n",
              "      <td>mpfi</td>\n",
              "      <td>9.0</td>\n",
              "      <td>154</td>\n",
              "      <td>5000</td>\n",
              "      <td>19</td>\n",
              "      <td>26</td>\n",
              "      <td>16500.0</td>\n",
              "    </tr>\n",
              "    <tr>\n",
              "      <th>3</th>\n",
              "      <td>audi</td>\n",
              "      <td>gas</td>\n",
              "      <td>std</td>\n",
              "      <td>4.0</td>\n",
              "      <td>sedan</td>\n",
              "      <td>fwd</td>\n",
              "      <td>front</td>\n",
              "      <td>99.8</td>\n",
              "      <td>176.6</td>\n",
              "      <td>66.2</td>\n",
              "      <td>...</td>\n",
              "      <td>ohc</td>\n",
              "      <td>4.0</td>\n",
              "      <td>109</td>\n",
              "      <td>mpfi</td>\n",
              "      <td>10.0</td>\n",
              "      <td>102</td>\n",
              "      <td>5500</td>\n",
              "      <td>24</td>\n",
              "      <td>30</td>\n",
              "      <td>13950.0</td>\n",
              "    </tr>\n",
              "    <tr>\n",
              "      <th>4</th>\n",
              "      <td>audi</td>\n",
              "      <td>gas</td>\n",
              "      <td>std</td>\n",
              "      <td>4.0</td>\n",
              "      <td>sedan</td>\n",
              "      <td>4wd</td>\n",
              "      <td>front</td>\n",
              "      <td>99.4</td>\n",
              "      <td>176.6</td>\n",
              "      <td>66.4</td>\n",
              "      <td>...</td>\n",
              "      <td>ohc</td>\n",
              "      <td>5.0</td>\n",
              "      <td>136</td>\n",
              "      <td>mpfi</td>\n",
              "      <td>8.0</td>\n",
              "      <td>115</td>\n",
              "      <td>5500</td>\n",
              "      <td>18</td>\n",
              "      <td>22</td>\n",
              "      <td>17450.0</td>\n",
              "    </tr>\n",
              "    <tr>\n",
              "      <th>...</th>\n",
              "      <td>...</td>\n",
              "      <td>...</td>\n",
              "      <td>...</td>\n",
              "      <td>...</td>\n",
              "      <td>...</td>\n",
              "      <td>...</td>\n",
              "      <td>...</td>\n",
              "      <td>...</td>\n",
              "      <td>...</td>\n",
              "      <td>...</td>\n",
              "      <td>...</td>\n",
              "      <td>...</td>\n",
              "      <td>...</td>\n",
              "      <td>...</td>\n",
              "      <td>...</td>\n",
              "      <td>...</td>\n",
              "      <td>...</td>\n",
              "      <td>...</td>\n",
              "      <td>...</td>\n",
              "      <td>...</td>\n",
              "      <td>...</td>\n",
              "    </tr>\n",
              "    <tr>\n",
              "      <th>155</th>\n",
              "      <td>plymouth</td>\n",
              "      <td>gas</td>\n",
              "      <td>std</td>\n",
              "      <td>4.0</td>\n",
              "      <td>hatchback</td>\n",
              "      <td>fwd</td>\n",
              "      <td>front</td>\n",
              "      <td>93.7</td>\n",
              "      <td>157.3</td>\n",
              "      <td>63.8</td>\n",
              "      <td>...</td>\n",
              "      <td>ohc</td>\n",
              "      <td>4.0</td>\n",
              "      <td>90</td>\n",
              "      <td>2bbl</td>\n",
              "      <td>9.4</td>\n",
              "      <td>68</td>\n",
              "      <td>5500</td>\n",
              "      <td>31</td>\n",
              "      <td>38</td>\n",
              "      <td>6229.0</td>\n",
              "    </tr>\n",
              "    <tr>\n",
              "      <th>156</th>\n",
              "      <td>plymouth</td>\n",
              "      <td>gas</td>\n",
              "      <td>std</td>\n",
              "      <td>4.0</td>\n",
              "      <td>sedan</td>\n",
              "      <td>fwd</td>\n",
              "      <td>front</td>\n",
              "      <td>93.7</td>\n",
              "      <td>167.3</td>\n",
              "      <td>63.8</td>\n",
              "      <td>...</td>\n",
              "      <td>ohc</td>\n",
              "      <td>4.0</td>\n",
              "      <td>90</td>\n",
              "      <td>2bbl</td>\n",
              "      <td>9.4</td>\n",
              "      <td>68</td>\n",
              "      <td>5500</td>\n",
              "      <td>31</td>\n",
              "      <td>38</td>\n",
              "      <td>6692.0</td>\n",
              "    </tr>\n",
              "    <tr>\n",
              "      <th>157</th>\n",
              "      <td>subaru</td>\n",
              "      <td>gas</td>\n",
              "      <td>std</td>\n",
              "      <td>4.0</td>\n",
              "      <td>sedan</td>\n",
              "      <td>NaN</td>\n",
              "      <td>NaN</td>\n",
              "      <td>97.2</td>\n",
              "      <td>172.0</td>\n",
              "      <td>65.4</td>\n",
              "      <td>...</td>\n",
              "      <td>ohcf</td>\n",
              "      <td>4.0</td>\n",
              "      <td>108</td>\n",
              "      <td>2bbl</td>\n",
              "      <td>9.5</td>\n",
              "      <td>82</td>\n",
              "      <td>4400</td>\n",
              "      <td>28</td>\n",
              "      <td>33</td>\n",
              "      <td>7775.0</td>\n",
              "    </tr>\n",
              "    <tr>\n",
              "      <th>158</th>\n",
              "      <td>subaru</td>\n",
              "      <td>gas</td>\n",
              "      <td>std</td>\n",
              "      <td>4.0</td>\n",
              "      <td>sedan</td>\n",
              "      <td>NaN</td>\n",
              "      <td>NaN</td>\n",
              "      <td>97.2</td>\n",
              "      <td>172.0</td>\n",
              "      <td>65.4</td>\n",
              "      <td>...</td>\n",
              "      <td>ohcf</td>\n",
              "      <td>4.0</td>\n",
              "      <td>108</td>\n",
              "      <td>mpfi</td>\n",
              "      <td>9.0</td>\n",
              "      <td>94</td>\n",
              "      <td>5200</td>\n",
              "      <td>26</td>\n",
              "      <td>32</td>\n",
              "      <td>9960.0</td>\n",
              "    </tr>\n",
              "    <tr>\n",
              "      <th>159</th>\n",
              "      <td>subaru</td>\n",
              "      <td>gas</td>\n",
              "      <td>std</td>\n",
              "      <td>4.0</td>\n",
              "      <td>sedan</td>\n",
              "      <td>NaN</td>\n",
              "      <td>NaN</td>\n",
              "      <td>97.0</td>\n",
              "      <td>172.0</td>\n",
              "      <td>65.4</td>\n",
              "      <td>...</td>\n",
              "      <td>ohcf</td>\n",
              "      <td>4.0</td>\n",
              "      <td>108</td>\n",
              "      <td>2bbl</td>\n",
              "      <td>9.0</td>\n",
              "      <td>82</td>\n",
              "      <td>4800</td>\n",
              "      <td>24</td>\n",
              "      <td>25</td>\n",
              "      <td>9233.0</td>\n",
              "    </tr>\n",
              "  </tbody>\n",
              "</table>\n",
              "<p>160 rows × 22 columns</p>\n",
              "</div>"
            ],
            "text/plain": [
              "         CarName fueltype aspiration  doornumber      carbody drivewheel  \\\n",
              "0    alfa-romero      gas        std         2.0  convertible        rwd   \n",
              "1    alfa-romero      gas        std         2.0  convertible        rwd   \n",
              "2    alfa-romero      gas        std         2.0    hatchback        rwd   \n",
              "3           audi      gas        std         4.0        sedan        fwd   \n",
              "4           audi      gas        std         4.0        sedan        4wd   \n",
              "..           ...      ...        ...         ...          ...        ...   \n",
              "155     plymouth      gas        std         4.0    hatchback        fwd   \n",
              "156     plymouth      gas        std         4.0        sedan        fwd   \n",
              "157       subaru      gas        std         4.0        sedan        NaN   \n",
              "158       subaru      gas        std         4.0        sedan        NaN   \n",
              "159       subaru      gas        std         4.0        sedan        NaN   \n",
              "\n",
              "    enginelocation  wheelbase  carlength  carwidth  ...  enginetype  \\\n",
              "0            front       88.6      168.8      64.1  ...        dohc   \n",
              "1            front       88.6      168.8      64.1  ...        dohc   \n",
              "2            front       94.5      171.2      65.5  ...        ohcv   \n",
              "3            front       99.8      176.6      66.2  ...         ohc   \n",
              "4            front       99.4      176.6      66.4  ...         ohc   \n",
              "..             ...        ...        ...       ...  ...         ...   \n",
              "155          front       93.7      157.3      63.8  ...         ohc   \n",
              "156          front       93.7      167.3      63.8  ...         ohc   \n",
              "157            NaN       97.2      172.0      65.4  ...        ohcf   \n",
              "158            NaN       97.2      172.0      65.4  ...        ohcf   \n",
              "159            NaN       97.0      172.0      65.4  ...        ohcf   \n",
              "\n",
              "     cylindernumber enginesize  fuelsystem  compressionratio horsepower  \\\n",
              "0               4.0        130        mpfi               9.0        111   \n",
              "1               4.0        130        mpfi               9.0        111   \n",
              "2               6.0        152        mpfi               9.0        154   \n",
              "3               4.0        109        mpfi              10.0        102   \n",
              "4               5.0        136        mpfi               8.0        115   \n",
              "..              ...        ...         ...               ...        ...   \n",
              "155             4.0         90        2bbl               9.4         68   \n",
              "156             4.0         90        2bbl               9.4         68   \n",
              "157             4.0        108        2bbl               9.5         82   \n",
              "158             4.0        108        mpfi               9.0         94   \n",
              "159             4.0        108        2bbl               9.0         82   \n",
              "\n",
              "     peakrpm  citympg  highwaympg    price  \n",
              "0       5000       21          27  13495.0  \n",
              "1       5000       21          27  16500.0  \n",
              "2       5000       19          26  16500.0  \n",
              "3       5500       24          30  13950.0  \n",
              "4       5500       18          22  17450.0  \n",
              "..       ...      ...         ...      ...  \n",
              "155     5500       31          38   6229.0  \n",
              "156     5500       31          38   6692.0  \n",
              "157     4400       28          33   7775.0  \n",
              "158     5200       26          32   9960.0  \n",
              "159     4800       24          25   9233.0  \n",
              "\n",
              "[160 rows x 22 columns]"
            ]
          },
          "execution_count": 57,
          "metadata": {},
          "output_type": "execute_result"
        }
      ],
      "source": [
        "car_df = pd.read_csv('car1.csv')\n",
        "car_df\n"
      ]
    },
    {
      "cell_type": "code",
      "execution_count": 58,
      "metadata": {
        "colab": {
          "base_uri": "https://localhost:8080/"
        },
        "id": "fHeTQl_1OVFp",
        "outputId": "85a0ceb1-c7d3-44a9-f1b2-02609540836d"
      },
      "outputs": [
        {
          "name": "stdout",
          "output_type": "stream",
          "text": [
            "data:  (160, 22)\n"
          ]
        }
      ],
      "source": [
        "# Mencetak dimensi data\n",
        "print(\"data: \", car_df.shape)"
      ]
    },
    {
      "cell_type": "code",
      "execution_count": 59,
      "metadata": {
        "colab": {
          "base_uri": "https://localhost:8080/"
        },
        "id": "TLc6noNLOVFr",
        "outputId": "b16afcf3-97fa-45a1-9947-5f524ea7740f"
      },
      "outputs": [
        {
          "name": "stdout",
          "output_type": "stream",
          "text": [
            "<class 'pandas.core.frame.DataFrame'>\n",
            "RangeIndex: 160 entries, 0 to 159\n",
            "Data columns (total 22 columns):\n",
            " #   Column            Non-Null Count  Dtype  \n",
            "---  ------            --------------  -----  \n",
            " 0   CarName           160 non-null    object \n",
            " 1   fueltype          160 non-null    object \n",
            " 2   aspiration        155 non-null    object \n",
            " 3   doornumber        155 non-null    float64\n",
            " 4   carbody           155 non-null    object \n",
            " 5   drivewheel        152 non-null    object \n",
            " 6   enginelocation    151 non-null    object \n",
            " 7   wheelbase         159 non-null    float64\n",
            " 8   carlength         159 non-null    float64\n",
            " 9   carwidth          159 non-null    float64\n",
            " 10  carheight         145 non-null    float64\n",
            " 11  curbweight        17 non-null     float64\n",
            " 12  enginetype        146 non-null    object \n",
            " 13  cylindernumber    146 non-null    float64\n",
            " 14  enginesize        160 non-null    int64  \n",
            " 15  fuelsystem        154 non-null    object \n",
            " 16  compressionratio  150 non-null    float64\n",
            " 17  horsepower        160 non-null    int64  \n",
            " 18  peakrpm           160 non-null    int64  \n",
            " 19  citympg           160 non-null    int64  \n",
            " 20  highwaympg        160 non-null    int64  \n",
            " 21  price             160 non-null    float64\n",
            "dtypes: float64(9), int64(5), object(8)\n",
            "memory usage: 27.6+ KB\n"
          ]
        }
      ],
      "source": [
        "# Membaca kolom-kolom pada DataFrame\n",
        "car_df.info()"
      ]
    },
    {
      "cell_type": "markdown",
      "metadata": {
        "id": "svLumBnvOVFv"
      },
      "source": [
        "### Deskripsi Statistik"
      ]
    },
    {
      "cell_type": "code",
      "execution_count": 60,
      "metadata": {
        "colab": {
          "base_uri": "https://localhost:8080/",
          "height": 300
        },
        "id": "RdUnkeRvOVFv",
        "outputId": "7ac6caa8-97af-40d9-d82a-d31d9b28f470"
      },
      "outputs": [
        {
          "data": {
            "text/html": [
              "<div>\n",
              "<style scoped>\n",
              "    .dataframe tbody tr th:only-of-type {\n",
              "        vertical-align: middle;\n",
              "    }\n",
              "\n",
              "    .dataframe tbody tr th {\n",
              "        vertical-align: top;\n",
              "    }\n",
              "\n",
              "    .dataframe thead th {\n",
              "        text-align: right;\n",
              "    }\n",
              "</style>\n",
              "<table border=\"1\" class=\"dataframe\">\n",
              "  <thead>\n",
              "    <tr style=\"text-align: right;\">\n",
              "      <th></th>\n",
              "      <th>doornumber</th>\n",
              "      <th>wheelbase</th>\n",
              "      <th>carlength</th>\n",
              "      <th>carwidth</th>\n",
              "      <th>carheight</th>\n",
              "      <th>curbweight</th>\n",
              "      <th>cylindernumber</th>\n",
              "      <th>enginesize</th>\n",
              "      <th>compressionratio</th>\n",
              "      <th>horsepower</th>\n",
              "      <th>peakrpm</th>\n",
              "      <th>citympg</th>\n",
              "      <th>highwaympg</th>\n",
              "      <th>price</th>\n",
              "    </tr>\n",
              "  </thead>\n",
              "  <tbody>\n",
              "    <tr>\n",
              "      <th>count</th>\n",
              "      <td>5.000000</td>\n",
              "      <td>5.000000</td>\n",
              "      <td>5.000000</td>\n",
              "      <td>5.000000</td>\n",
              "      <td>5.000000</td>\n",
              "      <td>1.0</td>\n",
              "      <td>5.000000</td>\n",
              "      <td>5.000000</td>\n",
              "      <td>5.000000</td>\n",
              "      <td>5.000000</td>\n",
              "      <td>5.000000</td>\n",
              "      <td>5.000000</td>\n",
              "      <td>5.000000</td>\n",
              "      <td>5.000000</td>\n",
              "    </tr>\n",
              "    <tr>\n",
              "      <th>mean</th>\n",
              "      <td>2.800000</td>\n",
              "      <td>94.180000</td>\n",
              "      <td>172.400000</td>\n",
              "      <td>65.260000</td>\n",
              "      <td>51.720000</td>\n",
              "      <td>2548.0</td>\n",
              "      <td>4.600000</td>\n",
              "      <td>131.400000</td>\n",
              "      <td>9.000000</td>\n",
              "      <td>118.600000</td>\n",
              "      <td>5200.000000</td>\n",
              "      <td>20.600000</td>\n",
              "      <td>26.400000</td>\n",
              "      <td>15579.000000</td>\n",
              "    </tr>\n",
              "    <tr>\n",
              "      <th>std</th>\n",
              "      <td>1.095445</td>\n",
              "      <td>5.504725</td>\n",
              "      <td>3.957272</td>\n",
              "      <td>1.110405</td>\n",
              "      <td>2.776148</td>\n",
              "      <td>NaN</td>\n",
              "      <td>0.894427</td>\n",
              "      <td>15.420765</td>\n",
              "      <td>0.707107</td>\n",
              "      <td>20.354361</td>\n",
              "      <td>273.861279</td>\n",
              "      <td>2.302173</td>\n",
              "      <td>2.880972</td>\n",
              "      <td>1745.982531</td>\n",
              "    </tr>\n",
              "    <tr>\n",
              "      <th>min</th>\n",
              "      <td>2.000000</td>\n",
              "      <td>88.600000</td>\n",
              "      <td>168.800000</td>\n",
              "      <td>64.100000</td>\n",
              "      <td>48.800000</td>\n",
              "      <td>2548.0</td>\n",
              "      <td>4.000000</td>\n",
              "      <td>109.000000</td>\n",
              "      <td>8.000000</td>\n",
              "      <td>102.000000</td>\n",
              "      <td>5000.000000</td>\n",
              "      <td>18.000000</td>\n",
              "      <td>22.000000</td>\n",
              "      <td>13495.000000</td>\n",
              "    </tr>\n",
              "    <tr>\n",
              "      <th>25%</th>\n",
              "      <td>2.000000</td>\n",
              "      <td>88.600000</td>\n",
              "      <td>168.800000</td>\n",
              "      <td>64.100000</td>\n",
              "      <td>48.800000</td>\n",
              "      <td>2548.0</td>\n",
              "      <td>4.000000</td>\n",
              "      <td>130.000000</td>\n",
              "      <td>9.000000</td>\n",
              "      <td>111.000000</td>\n",
              "      <td>5000.000000</td>\n",
              "      <td>19.000000</td>\n",
              "      <td>26.000000</td>\n",
              "      <td>13950.000000</td>\n",
              "    </tr>\n",
              "    <tr>\n",
              "      <th>50%</th>\n",
              "      <td>2.000000</td>\n",
              "      <td>94.500000</td>\n",
              "      <td>171.200000</td>\n",
              "      <td>65.500000</td>\n",
              "      <td>52.400000</td>\n",
              "      <td>2548.0</td>\n",
              "      <td>4.000000</td>\n",
              "      <td>130.000000</td>\n",
              "      <td>9.000000</td>\n",
              "      <td>111.000000</td>\n",
              "      <td>5000.000000</td>\n",
              "      <td>21.000000</td>\n",
              "      <td>27.000000</td>\n",
              "      <td>16500.000000</td>\n",
              "    </tr>\n",
              "    <tr>\n",
              "      <th>75%</th>\n",
              "      <td>4.000000</td>\n",
              "      <td>99.400000</td>\n",
              "      <td>176.600000</td>\n",
              "      <td>66.200000</td>\n",
              "      <td>54.300000</td>\n",
              "      <td>2548.0</td>\n",
              "      <td>5.000000</td>\n",
              "      <td>136.000000</td>\n",
              "      <td>9.000000</td>\n",
              "      <td>115.000000</td>\n",
              "      <td>5500.000000</td>\n",
              "      <td>21.000000</td>\n",
              "      <td>27.000000</td>\n",
              "      <td>16500.000000</td>\n",
              "    </tr>\n",
              "    <tr>\n",
              "      <th>max</th>\n",
              "      <td>4.000000</td>\n",
              "      <td>99.800000</td>\n",
              "      <td>176.600000</td>\n",
              "      <td>66.400000</td>\n",
              "      <td>54.300000</td>\n",
              "      <td>2548.0</td>\n",
              "      <td>6.000000</td>\n",
              "      <td>152.000000</td>\n",
              "      <td>10.000000</td>\n",
              "      <td>154.000000</td>\n",
              "      <td>5500.000000</td>\n",
              "      <td>24.000000</td>\n",
              "      <td>30.000000</td>\n",
              "      <td>17450.000000</td>\n",
              "    </tr>\n",
              "  </tbody>\n",
              "</table>\n",
              "</div>"
            ],
            "text/plain": [
              "       doornumber  wheelbase   carlength   carwidth  carheight  curbweight  \\\n",
              "count    5.000000   5.000000    5.000000   5.000000   5.000000         1.0   \n",
              "mean     2.800000  94.180000  172.400000  65.260000  51.720000      2548.0   \n",
              "std      1.095445   5.504725    3.957272   1.110405   2.776148         NaN   \n",
              "min      2.000000  88.600000  168.800000  64.100000  48.800000      2548.0   \n",
              "25%      2.000000  88.600000  168.800000  64.100000  48.800000      2548.0   \n",
              "50%      2.000000  94.500000  171.200000  65.500000  52.400000      2548.0   \n",
              "75%      4.000000  99.400000  176.600000  66.200000  54.300000      2548.0   \n",
              "max      4.000000  99.800000  176.600000  66.400000  54.300000      2548.0   \n",
              "\n",
              "       cylindernumber  enginesize  compressionratio  horsepower      peakrpm  \\\n",
              "count        5.000000    5.000000          5.000000    5.000000     5.000000   \n",
              "mean         4.600000  131.400000          9.000000  118.600000  5200.000000   \n",
              "std          0.894427   15.420765          0.707107   20.354361   273.861279   \n",
              "min          4.000000  109.000000          8.000000  102.000000  5000.000000   \n",
              "25%          4.000000  130.000000          9.000000  111.000000  5000.000000   \n",
              "50%          4.000000  130.000000          9.000000  111.000000  5000.000000   \n",
              "75%          5.000000  136.000000          9.000000  115.000000  5500.000000   \n",
              "max          6.000000  152.000000         10.000000  154.000000  5500.000000   \n",
              "\n",
              "         citympg  highwaympg         price  \n",
              "count   5.000000    5.000000      5.000000  \n",
              "mean   20.600000   26.400000  15579.000000  \n",
              "std     2.302173    2.880972   1745.982531  \n",
              "min    18.000000   22.000000  13495.000000  \n",
              "25%    19.000000   26.000000  13950.000000  \n",
              "50%    21.000000   27.000000  16500.000000  \n",
              "75%    21.000000   27.000000  16500.000000  \n",
              "max    24.000000   30.000000  17450.000000  "
            ]
          },
          "execution_count": 60,
          "metadata": {},
          "output_type": "execute_result"
        }
      ],
      "source": [
        "car_df.head().describe()"
      ]
    },
    {
      "cell_type": "markdown",
      "metadata": {
        "id": "zOVsKq4-XXR2"
      },
      "source": [
        "Dengan method \"describe\" kita mendapatkan basic statistics untuk atribut numerik. \n",
        "\n",
        "Apa yang bisa diamati?\n",
        "Pada atribut \"carlength\", standard deviasi tampak rendah, jauh di bawah mean, perlu dilihat lebih jauh distribusi datanya."
      ]
    },
    {
      "cell_type": "code",
      "execution_count": 61,
      "metadata": {
        "colab": {
          "base_uri": "https://localhost:8080/",
          "height": 249
        },
        "id": "rn2CQNiqgK4A",
        "outputId": "417b0ac3-9515-4fab-b2f4-64df29a85e9d"
      },
      "outputs": [
        {
          "name": "stderr",
          "output_type": "stream",
          "text": [
            "C:\\Users\\frans\\AppData\\Local\\Temp\\ipykernel_11864\\229838726.py:2: DeprecationWarning: `np.object` is a deprecated alias for the builtin `object`. To silence this warning, use `object` by itself. Doing this will not modify any behavior and is safe. \n",
            "Deprecated in NumPy 1.20; for more details and guidance: https://numpy.org/devdocs/release/1.20.0-notes.html#deprecations\n",
            "  display(car_df.head().describe(include=np.object))\n"
          ]
        },
        {
          "data": {
            "text/html": [
              "<div>\n",
              "<style scoped>\n",
              "    .dataframe tbody tr th:only-of-type {\n",
              "        vertical-align: middle;\n",
              "    }\n",
              "\n",
              "    .dataframe tbody tr th {\n",
              "        vertical-align: top;\n",
              "    }\n",
              "\n",
              "    .dataframe thead th {\n",
              "        text-align: right;\n",
              "    }\n",
              "</style>\n",
              "<table border=\"1\" class=\"dataframe\">\n",
              "  <thead>\n",
              "    <tr style=\"text-align: right;\">\n",
              "      <th></th>\n",
              "      <th>CarName</th>\n",
              "      <th>fueltype</th>\n",
              "      <th>aspiration</th>\n",
              "      <th>carbody</th>\n",
              "      <th>drivewheel</th>\n",
              "      <th>enginelocation</th>\n",
              "      <th>enginetype</th>\n",
              "      <th>fuelsystem</th>\n",
              "    </tr>\n",
              "  </thead>\n",
              "  <tbody>\n",
              "    <tr>\n",
              "      <th>count</th>\n",
              "      <td>5</td>\n",
              "      <td>5</td>\n",
              "      <td>5</td>\n",
              "      <td>5</td>\n",
              "      <td>5</td>\n",
              "      <td>5</td>\n",
              "      <td>5</td>\n",
              "      <td>5</td>\n",
              "    </tr>\n",
              "    <tr>\n",
              "      <th>unique</th>\n",
              "      <td>2</td>\n",
              "      <td>1</td>\n",
              "      <td>1</td>\n",
              "      <td>3</td>\n",
              "      <td>3</td>\n",
              "      <td>1</td>\n",
              "      <td>3</td>\n",
              "      <td>1</td>\n",
              "    </tr>\n",
              "    <tr>\n",
              "      <th>top</th>\n",
              "      <td>alfa-romero</td>\n",
              "      <td>gas</td>\n",
              "      <td>std</td>\n",
              "      <td>convertible</td>\n",
              "      <td>rwd</td>\n",
              "      <td>front</td>\n",
              "      <td>dohc</td>\n",
              "      <td>mpfi</td>\n",
              "    </tr>\n",
              "    <tr>\n",
              "      <th>freq</th>\n",
              "      <td>3</td>\n",
              "      <td>5</td>\n",
              "      <td>5</td>\n",
              "      <td>2</td>\n",
              "      <td>3</td>\n",
              "      <td>5</td>\n",
              "      <td>2</td>\n",
              "      <td>5</td>\n",
              "    </tr>\n",
              "  </tbody>\n",
              "</table>\n",
              "</div>"
            ],
            "text/plain": [
              "            CarName fueltype aspiration      carbody drivewheel  \\\n",
              "count             5        5          5            5          5   \n",
              "unique            2        1          1            3          3   \n",
              "top     alfa-romero      gas        std  convertible        rwd   \n",
              "freq              3        5          5            2          3   \n",
              "\n",
              "       enginelocation enginetype fuelsystem  \n",
              "count               5          5          5  \n",
              "unique              1          3          1  \n",
              "top             front       dohc       mpfi  \n",
              "freq                5          2          5  "
            ]
          },
          "metadata": {},
          "output_type": "display_data"
        }
      ],
      "source": [
        "# Menampilkan summary dari nonnumeric atribute\n",
        "display(car_df.head().describe(include=np.object))"
      ]
    },
    {
      "cell_type": "markdown",
      "metadata": {
        "id": "M0qUBTe_z-Rd"
      },
      "source": [
        "Pada tabel di atas, \"unique\" menunjukkan ada berapa variasi nilai dalam suatu atribut. \n",
        "Jika \"unique\" bernilai 1, atribut tersebut dapat dihapus, karena nilainya sama untuk semua baris."
      ]
    },
    {
      "cell_type": "code",
      "execution_count": 62,
      "metadata": {
        "id": "kKVHi9L-OVFw"
      },
      "outputs": [],
      "source": [
        "# Plot beberapa kolom untuk melihat distribusi frekuensinya\n",
        "def countplot(column):\n",
        "    return sns.countplot(x= column, data=car_df)"
      ]
    },
    {
      "cell_type": "code",
      "execution_count": 63,
      "metadata": {
        "colab": {
          "base_uri": "https://localhost:8080/",
          "height": 297
        },
        "id": "FgsVsOaOOVFx",
        "outputId": "c174d67e-fc07-4964-9004-94a1e81c9587"
      },
      "outputs": [
        {
          "data": {
            "text/plain": [
              "<AxesSubplot: xlabel='fueltype', ylabel='count'>"
            ]
          },
          "execution_count": 63,
          "metadata": {},
          "output_type": "execute_result"
        },
        {
          "data": {
            "image/png": "[encoded data removed]",
            "text/plain": [
              "<Figure size 640x480 with 1 Axes>"
            ]
          },
          "metadata": {},
          "output_type": "display_data"
        }
      ],
      "source": [
        "countplot('fueltype')"
      ]
    },
    {
      "cell_type": "markdown",
      "metadata": {
        "id": "MkhbKU6-z-Re"
      },
      "source": [
        "Berdasarkan plot di atas, terlihat bahwa yang tinggi frekuensinya adalah mobil dengan fuel type gas."
      ]
    },
    {
      "cell_type": "code",
      "execution_count": 64,
      "metadata": {
        "colab": {
          "base_uri": "https://localhost:8080/",
          "height": 297
        },
        "id": "eSx2cSccOVFy",
        "outputId": "c3446c64-e22e-4e03-d118-3c4cdde8b764"
      },
      "outputs": [
        {
          "data": {
            "text/plain": [
              "<AxesSubplot: xlabel='drivewheel', ylabel='count'>"
            ]
          },
          "execution_count": 64,
          "metadata": {},
          "output_type": "execute_result"
        },
        {
          "data": {
            "image/png": "[encoded data removed]",
            "text/plain": [
              "<Figure size 640x480 with 1 Axes>"
            ]
          },
          "metadata": {},
          "output_type": "display_data"
        }
      ],
      "source": [
        "countplot('drivewheel')"
      ]
    },
    {
      "cell_type": "markdown",
      "metadata": {
        "id": "J2oE58L9z-Rf"
      },
      "source": [
        "Berdasarkan plot di atas, terlihat bahwa tipe drive wheel 4wd (Four Wheel Drive) paling sedikit."
      ]
    },
    {
      "cell_type": "code",
      "execution_count": 65,
      "metadata": {
        "colab": {
          "base_uri": "https://localhost:8080/",
          "height": 297
        },
        "id": "W4f-aGxWOVFy",
        "outputId": "acc6abd1-efec-4538-e797-9a9bc81da4ba"
      },
      "outputs": [
        {
          "data": {
            "text/plain": [
              "<AxesSubplot: xlabel='carbody', ylabel='count'>"
            ]
          },
          "execution_count": 65,
          "metadata": {},
          "output_type": "execute_result"
        },
        {
          "data": {
            "image/png": "[encoded data removed]",
            "text/plain": [
              "<Figure size 640x480 with 1 Axes>"
            ]
          },
          "metadata": {},
          "output_type": "display_data"
        }
      ],
      "source": [
        "countplot('carbody')"
      ]
    },
    {
      "cell_type": "markdown",
      "metadata": {
        "id": "NxdAv3jHz-Rg"
      },
      "source": [
        "Berdasarkan plot di atas, terlihat bahwa sedan merupakan tipe badan mobil terbanyak."
      ]
    },
    {
      "cell_type": "code",
      "execution_count": 66,
      "metadata": {
        "colab": {
          "base_uri": "https://localhost:8080/",
          "height": 345
        },
        "id": "55Gf3Nl7OVFz",
        "outputId": "4fe3f81f-4f66-4beb-b59d-6f124b4bd691"
      },
      "outputs": [
        {
          "data": {
            "text/plain": [
              "[]"
            ]
          },
          "execution_count": 66,
          "metadata": {},
          "output_type": "execute_result"
        },
        {
          "data": {
            "image/png": "[encoded data removed]",
            "text/plain": [
              "<Figure size 640x480 with 1 Axes>"
            ]
          },
          "metadata": {},
          "output_type": "display_data"
        }
      ],
      "source": [
        "carnames = countplot('CarName')\n",
        "\n",
        "carnames.set_xticklabels(carnames.get_xticklabels(), rotation=90)\n",
        "carnames.plot()"
      ]
    },
    {
      "cell_type": "markdown",
      "metadata": {
        "id": "8HkabFIhz-Rg"
      },
      "source": [
        "Berdasarkan plot di atas, terlihat bahwa mobil Nissan berjumlah paling banyak dibanding mobil mercury yang berjumlah paling sedikit."
      ]
    },
    {
      "cell_type": "code",
      "execution_count": 67,
      "metadata": {
        "id": "3I1MSu5hX8W-"
      },
      "outputs": [],
      "source": [
        "# Mendapatkan nilai korelasi (koefisien Person) atribut numerik, dengan method \"corr\"\n",
        "car_corr = car_df.corr(method='pearson')"
      ]
    },
    {
      "cell_type": "code",
      "execution_count": 68,
      "metadata": {
        "colab": {
          "base_uri": "https://localhost:8080/",
          "height": 1000
        },
        "id": "AbLf39xuny6s",
        "outputId": "91a8f7c5-448e-4ce0-a785-c2f6b5450098"
      },
      "outputs": [
        {
          "data": {
            "text/plain": [
              "<AxesSubplot: >"
            ]
          },
          "execution_count": 68,
          "metadata": {},
          "output_type": "execute_result"
        },
        {
          "data": {
            "image/png": "[encoded data removed]",
            "text/plain": [
              "<Figure size 1800x1800 with 2 Axes>"
            ]
          },
          "metadata": {},
          "output_type": "display_data"
        }
      ],
      "source": [
        "# heatmap\n",
        "f,ax = plt.subplots(figsize=(18, 18))\n",
        "sns.heatmap(car_corr, annot=True, linewidths=.5, fmt= '.1f',ax=ax)"
      ]
    },
    {
      "cell_type": "markdown",
      "metadata": {
        "id": "KTqxFIrFX8W_"
      },
      "source": [
        "# Data Preprocessing\n",
        "\n",
        "*Data Preparation* atau *data preprocessing* adalah suatu proses pembersihan dan transformasi pada *raw data* sebelum diproses dan dianalisis. Pada beberapa algoritma prediksi, dibutuhkan *preprocessing* khusus agar algoritma dapat berjalan dengan baik.\n",
        "\n",
        "**DISCLAIMER!**  Pada contoh ini, *preprocessing* yang \n",
        "dilakukan dimaksudkan untuk algoritma yang memiliki karakteristik:\n",
        "* sensitif terhadap outlier\n",
        "* fitur-fiturnya perlu memiliki range yang setara"
      ]
    },
    {
      "cell_type": "code",
      "execution_count": 69,
      "metadata": {
        "id": "u8oCqRzOX8XA"
      },
      "outputs": [],
      "source": [
        "# Import data cars2\n",
        "car2_df = pd.read_csv('car2.csv')"
      ]
    },
    {
      "cell_type": "code",
      "execution_count": 140,
      "metadata": {
        "id": "VuVSyMppX8XA"
      },
      "outputs": [],
      "source": [
        "# Menggabungkan dua data frame\n",
        "frames = [car_df, car2_df] \n",
        "merged_cars = pd.concat(frames).reset_index(drop=True)"
      ]
    },
    {
      "cell_type": "code",
      "execution_count": 137,
      "metadata": {
        "colab": {
          "base_uri": "https://localhost:8080/"
        },
        "id": "GKjsU5_VX8XA",
        "outputId": "27d6f5f5-f2ad-4c4a-a6ca-e822069f8a84"
      },
      "outputs": [
        {
          "data": {
            "text/plain": [
              "(238, 22)"
            ]
          },
          "execution_count": 137,
          "metadata": {},
          "output_type": "execute_result"
        }
      ],
      "source": [
        "merged_cars.shape"
      ]
    },
    {
      "cell_type": "markdown",
      "metadata": {
        "id": "2SXTNT1aX8XA"
      },
      "source": [
        "### **SOAL 1**"
      ]
    },
    {
      "cell_type": "markdown",
      "metadata": {
        "id": "IYSkaOtpX8XA"
      },
      "source": [
        "(a) Dari data merged_cars di atas, apakah terdapat redudansi data? Implementasikan dengan code!"
      ]
    },
    {
      "cell_type": "code",
      "execution_count": 72,
      "metadata": {
        "colab": {
          "base_uri": "https://localhost:8080/",
          "height": 989
        },
        "id": "t1rYJG0bX8XA",
        "outputId": "2a490c62-8815-4ed9-c4a5-19e055db2ead"
      },
      "outputs": [
        {
          "data": {
            "text/html": [
              "<div>\n",
              "<style scoped>\n",
              "    .dataframe tbody tr th:only-of-type {\n",
              "        vertical-align: middle;\n",
              "    }\n",
              "\n",
              "    .dataframe tbody tr th {\n",
              "        vertical-align: top;\n",
              "    }\n",
              "\n",
              "    .dataframe thead th {\n",
              "        text-align: right;\n",
              "    }\n",
              "</style>\n",
              "<table border=\"1\" class=\"dataframe\">\n",
              "  <thead>\n",
              "    <tr style=\"text-align: right;\">\n",
              "      <th></th>\n",
              "      <th>CarName</th>\n",
              "      <th>fueltype</th>\n",
              "      <th>aspiration</th>\n",
              "      <th>doornumber</th>\n",
              "      <th>carbody</th>\n",
              "      <th>drivewheel</th>\n",
              "      <th>enginelocation</th>\n",
              "      <th>wheelbase</th>\n",
              "      <th>carlength</th>\n",
              "      <th>carwidth</th>\n",
              "      <th>...</th>\n",
              "      <th>enginetype</th>\n",
              "      <th>cylindernumber</th>\n",
              "      <th>enginesize</th>\n",
              "      <th>fuelsystem</th>\n",
              "      <th>compressionratio</th>\n",
              "      <th>horsepower</th>\n",
              "      <th>peakrpm</th>\n",
              "      <th>citympg</th>\n",
              "      <th>highwaympg</th>\n",
              "      <th>price</th>\n",
              "    </tr>\n",
              "  </thead>\n",
              "  <tbody>\n",
              "    <tr>\n",
              "      <th>43</th>\n",
              "      <td>audi</td>\n",
              "      <td>gas</td>\n",
              "      <td>turbo</td>\n",
              "      <td>4.0</td>\n",
              "      <td>sedan</td>\n",
              "      <td>fwd</td>\n",
              "      <td>front</td>\n",
              "      <td>105.8</td>\n",
              "      <td>192.7</td>\n",
              "      <td>71.4</td>\n",
              "      <td>...</td>\n",
              "      <td>ohc</td>\n",
              "      <td>5.0</td>\n",
              "      <td>131.0</td>\n",
              "      <td>mpfi</td>\n",
              "      <td>8.3</td>\n",
              "      <td>140.0</td>\n",
              "      <td>5500</td>\n",
              "      <td>17</td>\n",
              "      <td>20</td>\n",
              "      <td>23875.0</td>\n",
              "    </tr>\n",
              "    <tr>\n",
              "      <th>81</th>\n",
              "      <td>buick</td>\n",
              "      <td>gas</td>\n",
              "      <td>std</td>\n",
              "      <td>4.0</td>\n",
              "      <td>sedan</td>\n",
              "      <td>rwd</td>\n",
              "      <td>front</td>\n",
              "      <td>115.6</td>\n",
              "      <td>202.6</td>\n",
              "      <td>71.7</td>\n",
              "      <td>...</td>\n",
              "      <td>ohcv</td>\n",
              "      <td>8.0</td>\n",
              "      <td>234.0</td>\n",
              "      <td>mpfi</td>\n",
              "      <td>8.3</td>\n",
              "      <td>155.0</td>\n",
              "      <td>4750</td>\n",
              "      <td>16</td>\n",
              "      <td>18</td>\n",
              "      <td>34184.0</td>\n",
              "    </tr>\n",
              "    <tr>\n",
              "      <th>82</th>\n",
              "      <td>buick</td>\n",
              "      <td>gas</td>\n",
              "      <td>std</td>\n",
              "      <td>2.0</td>\n",
              "      <td>convertible</td>\n",
              "      <td>rwd</td>\n",
              "      <td>front</td>\n",
              "      <td>96.6</td>\n",
              "      <td>180.3</td>\n",
              "      <td>70.5</td>\n",
              "      <td>...</td>\n",
              "      <td>ohcv</td>\n",
              "      <td>8.0</td>\n",
              "      <td>234.0</td>\n",
              "      <td>mpfi</td>\n",
              "      <td>8.3</td>\n",
              "      <td>155.0</td>\n",
              "      <td>4750</td>\n",
              "      <td>16</td>\n",
              "      <td>18</td>\n",
              "      <td>35056.0</td>\n",
              "    </tr>\n",
              "    <tr>\n",
              "      <th>83</th>\n",
              "      <td>buick</td>\n",
              "      <td>gas</td>\n",
              "      <td>std</td>\n",
              "      <td>4.0</td>\n",
              "      <td>sedan</td>\n",
              "      <td>rwd</td>\n",
              "      <td>front</td>\n",
              "      <td>120.9</td>\n",
              "      <td>208.1</td>\n",
              "      <td>71.7</td>\n",
              "      <td>...</td>\n",
              "      <td>ohcv</td>\n",
              "      <td>8.0</td>\n",
              "      <td>308.0</td>\n",
              "      <td>mpfi</td>\n",
              "      <td>8.0</td>\n",
              "      <td>184.0</td>\n",
              "      <td>4500</td>\n",
              "      <td>14</td>\n",
              "      <td>16</td>\n",
              "      <td>40960.0</td>\n",
              "    </tr>\n",
              "    <tr>\n",
              "      <th>84</th>\n",
              "      <td>bmw</td>\n",
              "      <td>gas</td>\n",
              "      <td>std</td>\n",
              "      <td>4.0</td>\n",
              "      <td>sedan</td>\n",
              "      <td>rwd</td>\n",
              "      <td>front</td>\n",
              "      <td>103.5</td>\n",
              "      <td>189.0</td>\n",
              "      <td>66.9</td>\n",
              "      <td>...</td>\n",
              "      <td>ohc</td>\n",
              "      <td>6.0</td>\n",
              "      <td>164.0</td>\n",
              "      <td>NaN</td>\n",
              "      <td>NaN</td>\n",
              "      <td>121.0</td>\n",
              "      <td>4250</td>\n",
              "      <td>20</td>\n",
              "      <td>25</td>\n",
              "      <td>24565.0</td>\n",
              "    </tr>\n",
              "    <tr>\n",
              "      <th>85</th>\n",
              "      <td>buick</td>\n",
              "      <td>gas</td>\n",
              "      <td>std</td>\n",
              "      <td>2.0</td>\n",
              "      <td>hardtop</td>\n",
              "      <td>rwd</td>\n",
              "      <td>front</td>\n",
              "      <td>112.0</td>\n",
              "      <td>199.2</td>\n",
              "      <td>72.0</td>\n",
              "      <td>...</td>\n",
              "      <td>ohcv</td>\n",
              "      <td>8.0</td>\n",
              "      <td>304.0</td>\n",
              "      <td>mpfi</td>\n",
              "      <td>8.0</td>\n",
              "      <td>184.0</td>\n",
              "      <td>4500</td>\n",
              "      <td>14</td>\n",
              "      <td>16</td>\n",
              "      <td>45400.0</td>\n",
              "    </tr>\n",
              "    <tr>\n",
              "      <th>147</th>\n",
              "      <td>plymouth</td>\n",
              "      <td>gas</td>\n",
              "      <td>std</td>\n",
              "      <td>4.0</td>\n",
              "      <td>sedan</td>\n",
              "      <td>fwd</td>\n",
              "      <td>front</td>\n",
              "      <td>93.7</td>\n",
              "      <td>167.3</td>\n",
              "      <td>63.8</td>\n",
              "      <td>...</td>\n",
              "      <td>ohc</td>\n",
              "      <td>4.0</td>\n",
              "      <td>90.0</td>\n",
              "      <td>2bbl</td>\n",
              "      <td>9.4</td>\n",
              "      <td>68.0</td>\n",
              "      <td>5500</td>\n",
              "      <td>31</td>\n",
              "      <td>38</td>\n",
              "      <td>6692.0</td>\n",
              "    </tr>\n",
              "    <tr>\n",
              "      <th>149</th>\n",
              "      <td>bmw</td>\n",
              "      <td>gas</td>\n",
              "      <td>std</td>\n",
              "      <td>4.0</td>\n",
              "      <td>sedan</td>\n",
              "      <td>rwd</td>\n",
              "      <td>front</td>\n",
              "      <td>103.5</td>\n",
              "      <td>189.0</td>\n",
              "      <td>66.9</td>\n",
              "      <td>...</td>\n",
              "      <td>ohc</td>\n",
              "      <td>6.0</td>\n",
              "      <td>164.0</td>\n",
              "      <td>NaN</td>\n",
              "      <td>NaN</td>\n",
              "      <td>121.0</td>\n",
              "      <td>4250</td>\n",
              "      <td>20</td>\n",
              "      <td>25</td>\n",
              "      <td>24565.0</td>\n",
              "    </tr>\n",
              "    <tr>\n",
              "      <th>153</th>\n",
              "      <td>plymouth</td>\n",
              "      <td>gas</td>\n",
              "      <td>std</td>\n",
              "      <td>2.0</td>\n",
              "      <td>hatchback</td>\n",
              "      <td>fwd</td>\n",
              "      <td>front</td>\n",
              "      <td>93.7</td>\n",
              "      <td>157.3</td>\n",
              "      <td>63.8</td>\n",
              "      <td>...</td>\n",
              "      <td>ohc</td>\n",
              "      <td>4.0</td>\n",
              "      <td>90.0</td>\n",
              "      <td>2bbl</td>\n",
              "      <td>9.4</td>\n",
              "      <td>68.0</td>\n",
              "      <td>5500</td>\n",
              "      <td>37</td>\n",
              "      <td>41</td>\n",
              "      <td>5572.0</td>\n",
              "    </tr>\n",
              "    <tr>\n",
              "      <th>154</th>\n",
              "      <td>plymouth</td>\n",
              "      <td>gas</td>\n",
              "      <td>turbo</td>\n",
              "      <td>2.0</td>\n",
              "      <td>hatchback</td>\n",
              "      <td>fwd</td>\n",
              "      <td>front</td>\n",
              "      <td>93.7</td>\n",
              "      <td>157.3</td>\n",
              "      <td>63.8</td>\n",
              "      <td>...</td>\n",
              "      <td>ohc</td>\n",
              "      <td>4.0</td>\n",
              "      <td>98.0</td>\n",
              "      <td>spdi</td>\n",
              "      <td>7.6</td>\n",
              "      <td>102.0</td>\n",
              "      <td>5500</td>\n",
              "      <td>24</td>\n",
              "      <td>30</td>\n",
              "      <td>7957.0</td>\n",
              "    </tr>\n",
              "    <tr>\n",
              "      <th>155</th>\n",
              "      <td>plymouth</td>\n",
              "      <td>gas</td>\n",
              "      <td>std</td>\n",
              "      <td>4.0</td>\n",
              "      <td>hatchback</td>\n",
              "      <td>fwd</td>\n",
              "      <td>front</td>\n",
              "      <td>93.7</td>\n",
              "      <td>157.3</td>\n",
              "      <td>63.8</td>\n",
              "      <td>...</td>\n",
              "      <td>ohc</td>\n",
              "      <td>4.0</td>\n",
              "      <td>90.0</td>\n",
              "      <td>2bbl</td>\n",
              "      <td>9.4</td>\n",
              "      <td>68.0</td>\n",
              "      <td>5500</td>\n",
              "      <td>31</td>\n",
              "      <td>38</td>\n",
              "      <td>6229.0</td>\n",
              "    </tr>\n",
              "    <tr>\n",
              "      <th>156</th>\n",
              "      <td>plymouth</td>\n",
              "      <td>gas</td>\n",
              "      <td>std</td>\n",
              "      <td>4.0</td>\n",
              "      <td>sedan</td>\n",
              "      <td>fwd</td>\n",
              "      <td>front</td>\n",
              "      <td>93.7</td>\n",
              "      <td>167.3</td>\n",
              "      <td>63.8</td>\n",
              "      <td>...</td>\n",
              "      <td>ohc</td>\n",
              "      <td>4.0</td>\n",
              "      <td>90.0</td>\n",
              "      <td>2bbl</td>\n",
              "      <td>9.4</td>\n",
              "      <td>68.0</td>\n",
              "      <td>5500</td>\n",
              "      <td>31</td>\n",
              "      <td>38</td>\n",
              "      <td>6692.0</td>\n",
              "    </tr>\n",
              "    <tr>\n",
              "      <th>171</th>\n",
              "      <td>buick</td>\n",
              "      <td>diesel</td>\n",
              "      <td>turbo</td>\n",
              "      <td>4.0</td>\n",
              "      <td>sedan</td>\n",
              "      <td>rwd</td>\n",
              "      <td>front</td>\n",
              "      <td>115.6</td>\n",
              "      <td>202.6</td>\n",
              "      <td>71.7</td>\n",
              "      <td>...</td>\n",
              "      <td>ohc</td>\n",
              "      <td>5.0</td>\n",
              "      <td>183.0</td>\n",
              "      <td>idi</td>\n",
              "      <td>21.5</td>\n",
              "      <td>123.0</td>\n",
              "      <td>4350</td>\n",
              "      <td>22</td>\n",
              "      <td>25</td>\n",
              "      <td>31600.0</td>\n",
              "    </tr>\n",
              "    <tr>\n",
              "      <th>172</th>\n",
              "      <td>buick</td>\n",
              "      <td>gas</td>\n",
              "      <td>std</td>\n",
              "      <td>4.0</td>\n",
              "      <td>sedan</td>\n",
              "      <td>rwd</td>\n",
              "      <td>front</td>\n",
              "      <td>115.6</td>\n",
              "      <td>202.6</td>\n",
              "      <td>71.7</td>\n",
              "      <td>...</td>\n",
              "      <td>ohcv</td>\n",
              "      <td>8.0</td>\n",
              "      <td>234.0</td>\n",
              "      <td>mpfi</td>\n",
              "      <td>8.3</td>\n",
              "      <td>155.0</td>\n",
              "      <td>4750</td>\n",
              "      <td>16</td>\n",
              "      <td>18</td>\n",
              "      <td>34184.0</td>\n",
              "    </tr>\n",
              "    <tr>\n",
              "      <th>182</th>\n",
              "      <td>buick</td>\n",
              "      <td>diesel</td>\n",
              "      <td>turbo</td>\n",
              "      <td>4.0</td>\n",
              "      <td>sedan</td>\n",
              "      <td>rwd</td>\n",
              "      <td>front</td>\n",
              "      <td>115.6</td>\n",
              "      <td>202.6</td>\n",
              "      <td>71.7</td>\n",
              "      <td>...</td>\n",
              "      <td>ohc</td>\n",
              "      <td>5.0</td>\n",
              "      <td>183.0</td>\n",
              "      <td>idi</td>\n",
              "      <td>21.5</td>\n",
              "      <td>123.0</td>\n",
              "      <td>4350</td>\n",
              "      <td>22</td>\n",
              "      <td>25</td>\n",
              "      <td>31600.0</td>\n",
              "    </tr>\n",
              "    <tr>\n",
              "      <th>183</th>\n",
              "      <td>buick</td>\n",
              "      <td>gas</td>\n",
              "      <td>std</td>\n",
              "      <td>4.0</td>\n",
              "      <td>sedan</td>\n",
              "      <td>rwd</td>\n",
              "      <td>front</td>\n",
              "      <td>115.6</td>\n",
              "      <td>202.6</td>\n",
              "      <td>71.7</td>\n",
              "      <td>...</td>\n",
              "      <td>ohcv</td>\n",
              "      <td>8.0</td>\n",
              "      <td>234.0</td>\n",
              "      <td>mpfi</td>\n",
              "      <td>8.3</td>\n",
              "      <td>155.0</td>\n",
              "      <td>4750</td>\n",
              "      <td>16</td>\n",
              "      <td>18</td>\n",
              "      <td>34184.0</td>\n",
              "    </tr>\n",
              "    <tr>\n",
              "      <th>203</th>\n",
              "      <td>toyota</td>\n",
              "      <td>gas</td>\n",
              "      <td>std</td>\n",
              "      <td>2.0</td>\n",
              "      <td>hatchback</td>\n",
              "      <td>rwd</td>\n",
              "      <td>front</td>\n",
              "      <td>98.4</td>\n",
              "      <td>176.2</td>\n",
              "      <td>65.6</td>\n",
              "      <td>...</td>\n",
              "      <td>ohc</td>\n",
              "      <td>4.0</td>\n",
              "      <td>146.0</td>\n",
              "      <td>mpfi</td>\n",
              "      <td>9.3</td>\n",
              "      <td>116.0</td>\n",
              "      <td>4800</td>\n",
              "      <td>24</td>\n",
              "      <td>30</td>\n",
              "      <td>11549.0</td>\n",
              "    </tr>\n",
              "    <tr>\n",
              "      <th>204</th>\n",
              "      <td>toyota</td>\n",
              "      <td>gas</td>\n",
              "      <td>std</td>\n",
              "      <td>2.0</td>\n",
              "      <td>convertible</td>\n",
              "      <td>rwd</td>\n",
              "      <td>front</td>\n",
              "      <td>98.4</td>\n",
              "      <td>176.2</td>\n",
              "      <td>65.6</td>\n",
              "      <td>...</td>\n",
              "      <td>ohc</td>\n",
              "      <td>4.0</td>\n",
              "      <td>146.0</td>\n",
              "      <td>mpfi</td>\n",
              "      <td>9.3</td>\n",
              "      <td>116.0</td>\n",
              "      <td>4800</td>\n",
              "      <td>24</td>\n",
              "      <td>30</td>\n",
              "      <td>17669.0</td>\n",
              "    </tr>\n",
              "    <tr>\n",
              "      <th>205</th>\n",
              "      <td>toyota</td>\n",
              "      <td>gas</td>\n",
              "      <td>std</td>\n",
              "      <td>4.0</td>\n",
              "      <td>sedan</td>\n",
              "      <td>fwd</td>\n",
              "      <td>front</td>\n",
              "      <td>102.4</td>\n",
              "      <td>175.6</td>\n",
              "      <td>66.5</td>\n",
              "      <td>...</td>\n",
              "      <td>ohc</td>\n",
              "      <td>4.0</td>\n",
              "      <td>122.0</td>\n",
              "      <td>mpfi</td>\n",
              "      <td>8.7</td>\n",
              "      <td>92.0</td>\n",
              "      <td>4200</td>\n",
              "      <td>29</td>\n",
              "      <td>34</td>\n",
              "      <td>8948.0</td>\n",
              "    </tr>\n",
              "    <tr>\n",
              "      <th>225</th>\n",
              "      <td>subaru</td>\n",
              "      <td>gas</td>\n",
              "      <td>turbo</td>\n",
              "      <td>4.0</td>\n",
              "      <td>wagon</td>\n",
              "      <td>NaN</td>\n",
              "      <td>NaN</td>\n",
              "      <td>96.9</td>\n",
              "      <td>173.6</td>\n",
              "      <td>65.4</td>\n",
              "      <td>...</td>\n",
              "      <td>ohcf</td>\n",
              "      <td>4.0</td>\n",
              "      <td>108.0</td>\n",
              "      <td>mpfi</td>\n",
              "      <td>7.7</td>\n",
              "      <td>111.0</td>\n",
              "      <td>4800</td>\n",
              "      <td>23</td>\n",
              "      <td>23</td>\n",
              "      <td>11694.0</td>\n",
              "    </tr>\n",
              "    <tr>\n",
              "      <th>226</th>\n",
              "      <td>toyota</td>\n",
              "      <td>gas</td>\n",
              "      <td>std</td>\n",
              "      <td>2.0</td>\n",
              "      <td>hatchback</td>\n",
              "      <td>NaN</td>\n",
              "      <td>NaN</td>\n",
              "      <td>95.7</td>\n",
              "      <td>158.7</td>\n",
              "      <td>63.6</td>\n",
              "      <td>...</td>\n",
              "      <td>ohc</td>\n",
              "      <td>4.0</td>\n",
              "      <td>92.0</td>\n",
              "      <td>2bbl</td>\n",
              "      <td>9.0</td>\n",
              "      <td>62.0</td>\n",
              "      <td>4800</td>\n",
              "      <td>35</td>\n",
              "      <td>39</td>\n",
              "      <td>5348.0</td>\n",
              "    </tr>\n",
              "    <tr>\n",
              "      <th>227</th>\n",
              "      <td>plymouth</td>\n",
              "      <td>gas</td>\n",
              "      <td>std</td>\n",
              "      <td>4.0</td>\n",
              "      <td>sedan</td>\n",
              "      <td>fwd</td>\n",
              "      <td>front</td>\n",
              "      <td>93.7</td>\n",
              "      <td>167.3</td>\n",
              "      <td>63.8</td>\n",
              "      <td>...</td>\n",
              "      <td>ohc</td>\n",
              "      <td>4.0</td>\n",
              "      <td>90.0</td>\n",
              "      <td>2bbl</td>\n",
              "      <td>9.4</td>\n",
              "      <td>68.0</td>\n",
              "      <td>5500</td>\n",
              "      <td>31</td>\n",
              "      <td>38</td>\n",
              "      <td>6692.0</td>\n",
              "    </tr>\n",
              "    <tr>\n",
              "      <th>228</th>\n",
              "      <td>toyota</td>\n",
              "      <td>gas</td>\n",
              "      <td>std</td>\n",
              "      <td>2.0</td>\n",
              "      <td>hatchback</td>\n",
              "      <td>rwd</td>\n",
              "      <td>front</td>\n",
              "      <td>98.4</td>\n",
              "      <td>176.2</td>\n",
              "      <td>65.6</td>\n",
              "      <td>...</td>\n",
              "      <td>ohc</td>\n",
              "      <td>4.0</td>\n",
              "      <td>146.0</td>\n",
              "      <td>mpfi</td>\n",
              "      <td>9.3</td>\n",
              "      <td>116.0</td>\n",
              "      <td>4800</td>\n",
              "      <td>24</td>\n",
              "      <td>30</td>\n",
              "      <td>11549.0</td>\n",
              "    </tr>\n",
              "    <tr>\n",
              "      <th>229</th>\n",
              "      <td>toyota</td>\n",
              "      <td>gas</td>\n",
              "      <td>std</td>\n",
              "      <td>2.0</td>\n",
              "      <td>convertible</td>\n",
              "      <td>rwd</td>\n",
              "      <td>front</td>\n",
              "      <td>98.4</td>\n",
              "      <td>176.2</td>\n",
              "      <td>65.6</td>\n",
              "      <td>...</td>\n",
              "      <td>ohc</td>\n",
              "      <td>4.0</td>\n",
              "      <td>146.0</td>\n",
              "      <td>mpfi</td>\n",
              "      <td>9.3</td>\n",
              "      <td>116.0</td>\n",
              "      <td>4800</td>\n",
              "      <td>24</td>\n",
              "      <td>30</td>\n",
              "      <td>17669.0</td>\n",
              "    </tr>\n",
              "    <tr>\n",
              "      <th>230</th>\n",
              "      <td>toyota</td>\n",
              "      <td>gas</td>\n",
              "      <td>std</td>\n",
              "      <td>4.0</td>\n",
              "      <td>sedan</td>\n",
              "      <td>fwd</td>\n",
              "      <td>front</td>\n",
              "      <td>102.4</td>\n",
              "      <td>175.6</td>\n",
              "      <td>66.5</td>\n",
              "      <td>...</td>\n",
              "      <td>ohc</td>\n",
              "      <td>4.0</td>\n",
              "      <td>122.0</td>\n",
              "      <td>mpfi</td>\n",
              "      <td>8.7</td>\n",
              "      <td>92.0</td>\n",
              "      <td>4200</td>\n",
              "      <td>29</td>\n",
              "      <td>34</td>\n",
              "      <td>8948.0</td>\n",
              "    </tr>\n",
              "    <tr>\n",
              "      <th>231</th>\n",
              "      <td>subaru</td>\n",
              "      <td>gas</td>\n",
              "      <td>std</td>\n",
              "      <td>4.0</td>\n",
              "      <td>sedan</td>\n",
              "      <td>NaN</td>\n",
              "      <td>NaN</td>\n",
              "      <td>97.2</td>\n",
              "      <td>172.0</td>\n",
              "      <td>65.4</td>\n",
              "      <td>...</td>\n",
              "      <td>ohcf</td>\n",
              "      <td>4.0</td>\n",
              "      <td>108.0</td>\n",
              "      <td>2bbl</td>\n",
              "      <td>9.5</td>\n",
              "      <td>82.0</td>\n",
              "      <td>4400</td>\n",
              "      <td>28</td>\n",
              "      <td>33</td>\n",
              "      <td>7775.0</td>\n",
              "    </tr>\n",
              "    <tr>\n",
              "      <th>232</th>\n",
              "      <td>subaru</td>\n",
              "      <td>gas</td>\n",
              "      <td>std</td>\n",
              "      <td>4.0</td>\n",
              "      <td>sedan</td>\n",
              "      <td>NaN</td>\n",
              "      <td>NaN</td>\n",
              "      <td>97.2</td>\n",
              "      <td>172.0</td>\n",
              "      <td>65.4</td>\n",
              "      <td>...</td>\n",
              "      <td>ohcf</td>\n",
              "      <td>4.0</td>\n",
              "      <td>108.0</td>\n",
              "      <td>mpfi</td>\n",
              "      <td>9.0</td>\n",
              "      <td>94.0</td>\n",
              "      <td>5200</td>\n",
              "      <td>26</td>\n",
              "      <td>32</td>\n",
              "      <td>9960.0</td>\n",
              "    </tr>\n",
              "  </tbody>\n",
              "</table>\n",
              "<p>27 rows × 22 columns</p>\n",
              "</div>"
            ],
            "text/plain": [
              "      CarName fueltype aspiration  doornumber      carbody drivewheel  \\\n",
              "43       audi      gas      turbo         4.0        sedan        fwd   \n",
              "81      buick      gas        std         4.0        sedan        rwd   \n",
              "82      buick      gas        std         2.0  convertible        rwd   \n",
              "83      buick      gas        std         4.0        sedan        rwd   \n",
              "84        bmw      gas        std         4.0        sedan        rwd   \n",
              "85      buick      gas        std         2.0      hardtop        rwd   \n",
              "147  plymouth      gas        std         4.0        sedan        fwd   \n",
              "149       bmw      gas        std         4.0        sedan        rwd   \n",
              "153  plymouth      gas        std         2.0    hatchback        fwd   \n",
              "154  plymouth      gas      turbo         2.0    hatchback        fwd   \n",
              "155  plymouth      gas        std         4.0    hatchback        fwd   \n",
              "156  plymouth      gas        std         4.0        sedan        fwd   \n",
              "171     buick   diesel      turbo         4.0        sedan        rwd   \n",
              "172     buick      gas        std         4.0        sedan        rwd   \n",
              "182     buick   diesel      turbo         4.0        sedan        rwd   \n",
              "183     buick      gas        std         4.0        sedan        rwd   \n",
              "203    toyota      gas        std         2.0    hatchback        rwd   \n",
              "204    toyota      gas        std         2.0  convertible        rwd   \n",
              "205    toyota      gas        std         4.0        sedan        fwd   \n",
              "225    subaru      gas      turbo         4.0        wagon        NaN   \n",
              "226    toyota      gas        std         2.0    hatchback        NaN   \n",
              "227  plymouth      gas        std         4.0        sedan        fwd   \n",
              "228    toyota      gas        std         2.0    hatchback        rwd   \n",
              "229    toyota      gas        std         2.0  convertible        rwd   \n",
              "230    toyota      gas        std         4.0        sedan        fwd   \n",
              "231    subaru      gas        std         4.0        sedan        NaN   \n",
              "232    subaru      gas        std         4.0        sedan        NaN   \n",
              "\n",
              "    enginelocation  wheelbase  carlength  carwidth  ...  enginetype  \\\n",
              "43           front      105.8      192.7      71.4  ...         ohc   \n",
              "81           front      115.6      202.6      71.7  ...        ohcv   \n",
              "82           front       96.6      180.3      70.5  ...        ohcv   \n",
              "83           front      120.9      208.1      71.7  ...        ohcv   \n",
              "84           front      103.5      189.0      66.9  ...         ohc   \n",
              "85           front      112.0      199.2      72.0  ...        ohcv   \n",
              "147          front       93.7      167.3      63.8  ...         ohc   \n",
              "149          front      103.5      189.0      66.9  ...         ohc   \n",
              "153          front       93.7      157.3      63.8  ...         ohc   \n",
              "154          front       93.7      157.3      63.8  ...         ohc   \n",
              "155          front       93.7      157.3      63.8  ...         ohc   \n",
              "156          front       93.7      167.3      63.8  ...         ohc   \n",
              "171          front      115.6      202.6      71.7  ...         ohc   \n",
              "172          front      115.6      202.6      71.7  ...        ohcv   \n",
              "182          front      115.6      202.6      71.7  ...         ohc   \n",
              "183          front      115.6      202.6      71.7  ...        ohcv   \n",
              "203          front       98.4      176.2      65.6  ...         ohc   \n",
              "204          front       98.4      176.2      65.6  ...         ohc   \n",
              "205          front      102.4      175.6      66.5  ...         ohc   \n",
              "225            NaN       96.9      173.6      65.4  ...        ohcf   \n",
              "226            NaN       95.7      158.7      63.6  ...         ohc   \n",
              "227          front       93.7      167.3      63.8  ...         ohc   \n",
              "228          front       98.4      176.2      65.6  ...         ohc   \n",
              "229          front       98.4      176.2      65.6  ...         ohc   \n",
              "230          front      102.4      175.6      66.5  ...         ohc   \n",
              "231            NaN       97.2      172.0      65.4  ...        ohcf   \n",
              "232            NaN       97.2      172.0      65.4  ...        ohcf   \n",
              "\n",
              "     cylindernumber enginesize  fuelsystem  compressionratio horsepower  \\\n",
              "43              5.0      131.0        mpfi               8.3      140.0   \n",
              "81              8.0      234.0        mpfi               8.3      155.0   \n",
              "82              8.0      234.0        mpfi               8.3      155.0   \n",
              "83              8.0      308.0        mpfi               8.0      184.0   \n",
              "84              6.0      164.0         NaN               NaN      121.0   \n",
              "85              8.0      304.0        mpfi               8.0      184.0   \n",
              "147             4.0       90.0        2bbl               9.4       68.0   \n",
              "149             6.0      164.0         NaN               NaN      121.0   \n",
              "153             4.0       90.0        2bbl               9.4       68.0   \n",
              "154             4.0       98.0        spdi               7.6      102.0   \n",
              "155             4.0       90.0        2bbl               9.4       68.0   \n",
              "156             4.0       90.0        2bbl               9.4       68.0   \n",
              "171             5.0      183.0         idi              21.5      123.0   \n",
              "172             8.0      234.0        mpfi               8.3      155.0   \n",
              "182             5.0      183.0         idi              21.5      123.0   \n",
              "183             8.0      234.0        mpfi               8.3      155.0   \n",
              "203             4.0      146.0        mpfi               9.3      116.0   \n",
              "204             4.0      146.0        mpfi               9.3      116.0   \n",
              "205             4.0      122.0        mpfi               8.7       92.0   \n",
              "225             4.0      108.0        mpfi               7.7      111.0   \n",
              "226             4.0       92.0        2bbl               9.0       62.0   \n",
              "227             4.0       90.0        2bbl               9.4       68.0   \n",
              "228             4.0      146.0        mpfi               9.3      116.0   \n",
              "229             4.0      146.0        mpfi               9.3      116.0   \n",
              "230             4.0      122.0        mpfi               8.7       92.0   \n",
              "231             4.0      108.0        2bbl               9.5       82.0   \n",
              "232             4.0      108.0        mpfi               9.0       94.0   \n",
              "\n",
              "     peakrpm  citympg  highwaympg    price  \n",
              "43      5500       17          20  23875.0  \n",
              "81      4750       16          18  34184.0  \n",
              "82      4750       16          18  35056.0  \n",
              "83      4500       14          16  40960.0  \n",
              "84      4250       20          25  24565.0  \n",
              "85      4500       14          16  45400.0  \n",
              "147     5500       31          38   6692.0  \n",
              "149     4250       20          25  24565.0  \n",
              "153     5500       37          41   5572.0  \n",
              "154     5500       24          30   7957.0  \n",
              "155     5500       31          38   6229.0  \n",
              "156     5500       31          38   6692.0  \n",
              "171     4350       22          25  31600.0  \n",
              "172     4750       16          18  34184.0  \n",
              "182     4350       22          25  31600.0  \n",
              "183     4750       16          18  34184.0  \n",
              "203     4800       24          30  11549.0  \n",
              "204     4800       24          30  17669.0  \n",
              "205     4200       29          34   8948.0  \n",
              "225     4800       23          23  11694.0  \n",
              "226     4800       35          39   5348.0  \n",
              "227     5500       31          38   6692.0  \n",
              "228     4800       24          30  11549.0  \n",
              "229     4800       24          30  17669.0  \n",
              "230     4200       29          34   8948.0  \n",
              "231     4400       28          33   7775.0  \n",
              "232     5200       26          32   9960.0  \n",
              "\n",
              "[27 rows x 22 columns]"
            ]
          },
          "execution_count": 72,
          "metadata": {},
          "output_type": "execute_result"
        }
      ],
      "source": [
        "# 1(a) Implementasi code di sini.\n",
        "duplicated = merged_cars[merged_cars.duplicated()]\n",
        "duplicated\n",
        "# ya, terdapat redundansi data, berikut data yang memiliki kesamaan dengan data lainnya"
      ]
    },
    {
      "cell_type": "markdown",
      "metadata": {
        "id": "vkNX_N4NX8XB"
      },
      "source": [
        "(b) Apa yang dapat Anda lakukan untuk menangani redudansi data tersebut? Implementasikan dengan code! Hint: [Dokumentasi Drop Duplicate](https://pandas.pydata.org/pandas-docs/version/1.3/reference/api/pandas.DataFrame.drop_duplicates.html)"
      ]
    },
    {
      "cell_type": "code",
      "execution_count": 141,
      "metadata": {
        "id": "FeInjJa0X8XB"
      },
      "outputs": [
        {
          "name": "stdout",
          "output_type": "stream",
          "text": [
            "Shape sebelum di drop : (238, 22)\n",
            "Shape setelah di drop : (211, 22)\n"
          ]
        }
      ],
      "source": [
        "# 1(b) Implementasi code di sini.\n",
        "print(\"Shape sebelum di drop :\", merged_cars.shape)\n",
        "merged_cars = merged_cars.drop_duplicates()\n",
        "print(\"Shape setelah di drop :\", merged_cars.shape)\n",
        "# untuk menangani redudansi data, kita bisa menggunakan method drop_duplicates() untuk \n",
        "# menghapus semua baris yang memiliki data redudansi"
      ]
    },
    {
      "cell_type": "markdown",
      "metadata": {
        "id": "eXgJR7fEX8XB"
      },
      "source": [
        "(c) Berikan alasan mengapa redudansi data perlu ditangani?\n",
        "> Kita perlu menghilangkan redudansi data agar data yang kita punya lebih berkualitas dan membuat hasil analisis data lebih akurat."
      ]
    },
    {
      "cell_type": "markdown",
      "metadata": {
        "id": "18v2FKJzjcPQ"
      },
      "source": [
        "## Outlier"
      ]
    },
    {
      "cell_type": "markdown",
      "metadata": {
        "id": "GN-hQ0_1vUel"
      },
      "source": [
        "Outlier merupakan observasi yang tidak biasa yang muncul pada salah satu titik ekstrim dari sebagian besar data. Titik ekstrim di sini adalah nilai yang terlalu kecil atau nilai yang terlalu besar jika dibandingkan dengan sebagian besar nilai lain dalam kelompoknya."
      ]
    },
    {
      "cell_type": "markdown",
      "metadata": {
        "id": "eKcNhMswxqnd"
      },
      "source": [
        "Outlier dapat ditangani dengan melakukan hal-hal berikut ini:\n",
        "\n",
        "*   Jika persentase outliers tidak signifikan, opsi yang mungkin dilakukan adalah drop column/row.\n",
        "*   Jika datanya relatif sedikit, opsi yang mungkin dilakukan adalah mengisi dengan nilai statistik tertentu Pengisian data dapat dilakukan dengan:\n",
        "  * Nilai rata-rata \n",
        "  * Nilai median\n",
        "  * Nilai modus\n",
        "*   Jika terdapat human error, maka opsi yang mungkin adalah memperbaiki dengan manual.\n",
        "*   Jika asumsi data normal, maka outlier dapat dibiarkan saja.\n",
        "\n"
      ]
    },
    {
      "cell_type": "code",
      "execution_count": 74,
      "metadata": {
        "colab": {
          "base_uri": "https://localhost:8080/",
          "height": 297
        },
        "id": "q2E1LoKwOVF0",
        "outputId": "6654b322-0038-43ca-be04-4175e602caca",
        "scrolled": true
      },
      "outputs": [
        {
          "name": "stderr",
          "output_type": "stream",
          "text": [
            "c:\\Users\\frans\\AppData\\Local\\Programs\\Python\\Python310\\lib\\site-packages\\pandas\\plotting\\_matplotlib\\core.py:1114: UserWarning: No data for colormapping provided via 'c'. Parameters 'cmap' will be ignored\n",
            "  scatter = ax.scatter(\n"
          ]
        },
        {
          "data": {
            "text/plain": [
              "<AxesSubplot: xlabel='price', ylabel='CarName'>"
            ]
          },
          "execution_count": 74,
          "metadata": {},
          "output_type": "execute_result"
        },
        {
          "data": {
            "image/png": "[encoded data removed]",
            "text/plain": [
              "<Figure size 600x400 with 1 Axes>"
            ]
          },
          "metadata": {},
          "output_type": "display_data"
        }
      ],
      "source": [
        "merged_cars['CarName'] = merged_cars['CarName'].astype(str) # ubah jadi tipe string\n",
        "merged_cars.plot.scatter(x=\"price\", y='CarName', figsize=(6,4))"
      ]
    },
    {
      "cell_type": "markdown",
      "metadata": {
        "id": "af03UEXVz-Rh"
      },
      "source": [
        "Dari scatter plot di atas terlihat bahwa ada harga mobil yang sangat besar (outlier) pada mobil dengan tipe mobil mazda."
      ]
    },
    {
      "cell_type": "code",
      "execution_count": 126,
      "metadata": {
        "colab": {
          "base_uri": "https://localhost:8080/",
          "height": 258
        },
        "id": "02ShW0HTOVF7",
        "outputId": "5436270d-a663-4551-f9e4-1766a85d3f0c"
      },
      "outputs": [
        {
          "data": {
            "text/plain": [
              "<AxesSubplot: >"
            ]
          },
          "execution_count": 126,
          "metadata": {},
          "output_type": "execute_result"
        },
        {
          "data": {
            "image/png": "[encoded data removed]",
            "text/plain": [
              "<Figure size 2000x300 with 1 Axes>"
            ]
          },
          "metadata": {},
          "output_type": "display_data"
        }
      ],
      "source": [
        "data = merged_cars.drop(['price'],axis=1)\n",
        "data.boxplot(figsize=(20,3))"
      ]
    },
    {
      "cell_type": "markdown",
      "metadata": {
        "id": "l2Mz6B6Ylku7"
      },
      "source": [
        "Boxplot juga dapat digunakan untuk menunjukkan adanya outlier. Bagian utama boxplot merupakan sebuah kotak Box yang menyajikan interquartile range (IQR). Garis yang merupakan perpanjangan dari box dinamakan dengan whiskers. Nilai yang berada di atas atau dibawah whisker dinamakan nilai outlier atau ekstrim."
      ]
    },
    {
      "cell_type": "markdown",
      "metadata": {
        "id": "Qs6DEaIu0_-3"
      },
      "source": [
        "### **SOAL 2**\n",
        "\n",
        "(a) Dari boxplot yang Anda lihat, atribut apa yang mengandung outlier paling banyak?\n",
        "\n",
        "Atribut yang memiliki outlier paling banyak adalah enginesize jika dilihat menggunakan boxplot, tetapi apabila dilakukan perhitungan menggunakan IQR, outliers terbanyak ada pada cylindernumber."
      ]
    },
    {
      "cell_type": "markdown",
      "metadata": {
        "id": "9clvzQNg7MRx"
      },
      "source": [
        "(b) Implementasikan code untuk menampilkan banyaknya outlier pada atribut tersebut!"
      ]
    },
    {
      "cell_type": "code",
      "execution_count": 121,
      "metadata": {
        "colab": {
          "base_uri": "https://localhost:8080/"
        },
        "id": "9FNJvGOyz-Rj",
        "outputId": "1f13df51-059b-4a11-c5ab-b187ff797d42"
      },
      "outputs": [
        {
          "data": {
            "text/plain": [
              "41"
            ]
          },
          "execution_count": 121,
          "metadata": {},
          "output_type": "execute_result"
        }
      ],
      "source": [
        "# 2(b) Implementasi code di sini\n",
        "Q1 = data['cylindernumber'].quantile(0.25)\n",
        "Q3 = data['cylindernumber'].quantile(0.75)\n",
        "IQR = Q3 - Q1\n",
        "((data['cylindernumber'] < (Q1 - 1.5 * IQR)) | (data['cylindernumber'] > (Q3 + 1.5 * IQR))).sum()"
      ]
    },
    {
      "cell_type": "markdown",
      "metadata": {
        "id": "X85RWnpBz-Rj"
      },
      "source": [
        "(c) Apa yang dapat Anda lakukan untuk menangani outlier tersebut? Implementasikan dengan code!"
      ]
    },
    {
      "cell_type": "code",
      "execution_count": 160,
      "metadata": {
        "id": "vMBAr9Rb7cFd"
      },
      "outputs": [],
      "source": [
        "# 2(c) Implementasi code di sini\n",
        "\n",
        "# menurut saya, outliers tersebut tidak harus diremove atau didrop karena datanya cukup banyak, khususnya untuk kolom cylindernumber. Untuk kasus ini, \n",
        "# kita bisa membiatkan saja outliers tersebut, dengan catatan outliers tersebut bisa kita ubah nilainya dengan menggunakan nilai mean apabila diperlukan,\n",
        "# atau bisa juga kita filter dengan hanya menggunakan data yang nilainya < (Q3 + 1.5 * IQR) dan > (Q1 - 1.5 * IQR) atau data di luar outliers."
      ]
    },
    {
      "cell_type": "markdown",
      "metadata": {
        "id": "bd-aKJ9lwI0O"
      },
      "source": [
        "## Missing Values"
      ]
    },
    {
      "cell_type": "markdown",
      "metadata": {
        "id": "ZdkXMlUHWxzY"
      },
      "source": [
        "Terkadang data mungkin dalam format yang benar, tetapi beberapa nilainya hilang.\n",
        "\n",
        "*   Nilai yang hilang terjadi ketika tidak ada nilai data yang disimpan untuk suatu variabel (fitur) dalam suatu observasi.\n",
        "*   Biasanya missing value di datase muncul sebagai “?”, “T/A”, 0 atau hanya sel kosong."
      ]
    },
    {
      "cell_type": "markdown",
      "metadata": {
        "id": "tw3zM_5DY3C6"
      },
      "source": [
        "Untuk menangani missing values, tidak terdapat jawaban tunggal yang selalu bekerja untuk semua skenario, karena  tentunya penanganan missing values harus disesuaikan dengan kondisi data atau fitur yang memiliki missing values. Namun, terdapat beberapa opsi umum yang dapat dipertimbangkan, yaitu: \n",
        "\n",
        "*   Periksa lagi dengan orang/kelompok yang mengumpulkan data.\n",
        "*   Jika kita tidak mengetahui nilai yang hilang, opsi yang mungkin adalah menghapus/drop missing values.\n",
        "    * Menghapus kolom yang mengandung missing values, atau \n",
        "    * Menghapus beberapa baris data yang mengandung missing values.\n",
        "*  Jika data relatif sedikit, opsi yang mungkin adalah mengganti/replace nilai missing values. \n",
        "    * Mengganti nilai missing value dengan nilai mean keseluruhan variabel.\n",
        "    * Jika variabelnya non-numerik, ganti nilai missing value dengan frekuensi/modus. \n",
        "*   Jika kita berasumsi data tersebut tetap akan berguna meskipun ada fitur yang hilang, maka kita dapat membiarkan missing values. \n",
        "\n",
        "\n",
        "\n",
        "\n"
      ]
    },
    {
      "cell_type": "code",
      "execution_count": 129,
      "metadata": {
        "id": "jxmLWlatOVF8"
      },
      "outputs": [],
      "source": [
        "# Cek missing value\n",
        "def cek_null(df):\n",
        "    col_na = df.isnull().sum().sort_values(ascending=False)\n",
        "    percent = col_na / len(df)\n",
        "    \n",
        "    missing_data = pd.concat([col_na, percent], axis=1, keys=['Total', 'Percent'])\n",
        "    print(missing_data[missing_data['Total'] > 0])"
      ]
    },
    {
      "cell_type": "code",
      "execution_count": 142,
      "metadata": {
        "colab": {
          "base_uri": "https://localhost:8080/"
        },
        "id": "G_vYn8ZxOVF9",
        "outputId": "ffd6af64-bf39-4772-8fd9-62e3814d1769"
      },
      "outputs": [
        {
          "name": "stdout",
          "output_type": "stream",
          "text": [
            "                  Total   Percent\n",
            "curbweight          175  0.829384\n",
            "enginetype           19  0.090047\n",
            "enginelocation       19  0.090047\n",
            "cylindernumber       19  0.090047\n",
            "drivewheel           16  0.075829\n",
            "carheight            16  0.075829\n",
            "compressionratio      8  0.037915\n",
            "aspiration            5  0.023697\n",
            "doornumber            5  0.023697\n",
            "carbody               5  0.023697\n",
            "enginesize            5  0.023697\n",
            "fuelsystem            4  0.018957\n",
            "carwidth              2  0.009479\n",
            "carlength             2  0.009479\n",
            "wheelbase             2  0.009479\n",
            "fueltype              1  0.004739\n",
            "horsepower            1  0.004739\n"
          ]
        }
      ],
      "source": [
        "cek_null(merged_cars)"
      ]
    },
    {
      "cell_type": "markdown",
      "metadata": {
        "id": "E6VwvbP5z-Rk"
      },
      "source": [
        "Terdapat beberapa atribut memiliki null value yang sangat banyak, atribut body memiliki null value yang paling banyak hingga 81%, \"curbweight\""
      ]
    },
    {
      "cell_type": "code",
      "execution_count": 143,
      "metadata": {
        "colab": {
          "base_uri": "https://localhost:8080/"
        },
        "id": "1Lf9rpqPpQUe",
        "outputId": "d9149bab-1cf6-447b-de74-6a51e865457d"
      },
      "outputs": [
        {
          "data": {
            "text/plain": [
              "0     2548.0\n",
              "1        NaN\n",
              "2        NaN\n",
              "3        NaN\n",
              "4        NaN\n",
              "5        NaN\n",
              "6     2844.0\n",
              "7     2954.0\n",
              "8        NaN\n",
              "9        NaN\n",
              "10       NaN\n",
              "11       NaN\n",
              "12       NaN\n",
              "13       NaN\n",
              "14       NaN\n",
              "15       NaN\n",
              "16       NaN\n",
              "17       NaN\n",
              "18       NaN\n",
              "19       NaN\n",
              "Name: curbweight, dtype: float64"
            ]
          },
          "execution_count": 143,
          "metadata": {},
          "output_type": "execute_result"
        }
      ],
      "source": [
        "# Melihat isi cabin (20 baris pertama)\n",
        "merged_cars['curbweight'].head(20)"
      ]
    },
    {
      "cell_type": "code",
      "execution_count": 144,
      "metadata": {
        "colab": {
          "base_uri": "https://localhost:8080/",
          "height": 322
        },
        "id": "SaljTpbZqsvH",
        "outputId": "a775897c-c0da-4594-d990-697364d781af"
      },
      "outputs": [
        {
          "data": {
            "text/html": [
              "<div>\n",
              "<style scoped>\n",
              "    .dataframe tbody tr th:only-of-type {\n",
              "        vertical-align: middle;\n",
              "    }\n",
              "\n",
              "    .dataframe tbody tr th {\n",
              "        vertical-align: top;\n",
              "    }\n",
              "\n",
              "    .dataframe thead th {\n",
              "        text-align: right;\n",
              "    }\n",
              "</style>\n",
              "<table border=\"1\" class=\"dataframe\">\n",
              "  <thead>\n",
              "    <tr style=\"text-align: right;\">\n",
              "      <th></th>\n",
              "      <th>CarName</th>\n",
              "      <th>fueltype</th>\n",
              "      <th>aspiration</th>\n",
              "      <th>doornumber</th>\n",
              "      <th>carbody</th>\n",
              "      <th>drivewheel</th>\n",
              "      <th>enginelocation</th>\n",
              "      <th>wheelbase</th>\n",
              "      <th>carlength</th>\n",
              "      <th>carwidth</th>\n",
              "      <th>carheight</th>\n",
              "      <th>enginetype</th>\n",
              "      <th>cylindernumber</th>\n",
              "      <th>enginesize</th>\n",
              "      <th>fuelsystem</th>\n",
              "      <th>compressionratio</th>\n",
              "      <th>horsepower</th>\n",
              "      <th>citympg</th>\n",
              "      <th>highwaympg</th>\n",
              "      <th>price</th>\n",
              "    </tr>\n",
              "  </thead>\n",
              "  <tbody>\n",
              "    <tr>\n",
              "      <th>0</th>\n",
              "      <td>alfa-romero</td>\n",
              "      <td>gas</td>\n",
              "      <td>std</td>\n",
              "      <td>2.0</td>\n",
              "      <td>convertible</td>\n",
              "      <td>rwd</td>\n",
              "      <td>front</td>\n",
              "      <td>88.6</td>\n",
              "      <td>168.8</td>\n",
              "      <td>64.1</td>\n",
              "      <td>48.8</td>\n",
              "      <td>dohc</td>\n",
              "      <td>4.0</td>\n",
              "      <td>130.0</td>\n",
              "      <td>mpfi</td>\n",
              "      <td>9.0</td>\n",
              "      <td>111.0</td>\n",
              "      <td>21</td>\n",
              "      <td>27</td>\n",
              "      <td>13495.0</td>\n",
              "    </tr>\n",
              "    <tr>\n",
              "      <th>1</th>\n",
              "      <td>alfa-romero</td>\n",
              "      <td>gas</td>\n",
              "      <td>std</td>\n",
              "      <td>2.0</td>\n",
              "      <td>convertible</td>\n",
              "      <td>rwd</td>\n",
              "      <td>front</td>\n",
              "      <td>88.6</td>\n",
              "      <td>168.8</td>\n",
              "      <td>64.1</td>\n",
              "      <td>48.8</td>\n",
              "      <td>dohc</td>\n",
              "      <td>4.0</td>\n",
              "      <td>130.0</td>\n",
              "      <td>mpfi</td>\n",
              "      <td>9.0</td>\n",
              "      <td>111.0</td>\n",
              "      <td>21</td>\n",
              "      <td>27</td>\n",
              "      <td>16500.0</td>\n",
              "    </tr>\n",
              "    <tr>\n",
              "      <th>2</th>\n",
              "      <td>alfa-romero</td>\n",
              "      <td>gas</td>\n",
              "      <td>std</td>\n",
              "      <td>2.0</td>\n",
              "      <td>hatchback</td>\n",
              "      <td>rwd</td>\n",
              "      <td>front</td>\n",
              "      <td>94.5</td>\n",
              "      <td>171.2</td>\n",
              "      <td>65.5</td>\n",
              "      <td>52.4</td>\n",
              "      <td>ohcv</td>\n",
              "      <td>6.0</td>\n",
              "      <td>152.0</td>\n",
              "      <td>mpfi</td>\n",
              "      <td>9.0</td>\n",
              "      <td>154.0</td>\n",
              "      <td>19</td>\n",
              "      <td>26</td>\n",
              "      <td>16500.0</td>\n",
              "    </tr>\n",
              "    <tr>\n",
              "      <th>3</th>\n",
              "      <td>audi</td>\n",
              "      <td>gas</td>\n",
              "      <td>std</td>\n",
              "      <td>4.0</td>\n",
              "      <td>sedan</td>\n",
              "      <td>fwd</td>\n",
              "      <td>front</td>\n",
              "      <td>99.8</td>\n",
              "      <td>176.6</td>\n",
              "      <td>66.2</td>\n",
              "      <td>54.3</td>\n",
              "      <td>ohc</td>\n",
              "      <td>4.0</td>\n",
              "      <td>109.0</td>\n",
              "      <td>mpfi</td>\n",
              "      <td>10.0</td>\n",
              "      <td>102.0</td>\n",
              "      <td>24</td>\n",
              "      <td>30</td>\n",
              "      <td>13950.0</td>\n",
              "    </tr>\n",
              "    <tr>\n",
              "      <th>4</th>\n",
              "      <td>audi</td>\n",
              "      <td>gas</td>\n",
              "      <td>std</td>\n",
              "      <td>4.0</td>\n",
              "      <td>sedan</td>\n",
              "      <td>4wd</td>\n",
              "      <td>front</td>\n",
              "      <td>99.4</td>\n",
              "      <td>176.6</td>\n",
              "      <td>66.4</td>\n",
              "      <td>54.3</td>\n",
              "      <td>ohc</td>\n",
              "      <td>5.0</td>\n",
              "      <td>136.0</td>\n",
              "      <td>mpfi</td>\n",
              "      <td>8.0</td>\n",
              "      <td>115.0</td>\n",
              "      <td>18</td>\n",
              "      <td>22</td>\n",
              "      <td>17450.0</td>\n",
              "    </tr>\n",
              "  </tbody>\n",
              "</table>\n",
              "</div>"
            ],
            "text/plain": [
              "       CarName fueltype aspiration  doornumber      carbody drivewheel  \\\n",
              "0  alfa-romero      gas        std         2.0  convertible        rwd   \n",
              "1  alfa-romero      gas        std         2.0  convertible        rwd   \n",
              "2  alfa-romero      gas        std         2.0    hatchback        rwd   \n",
              "3         audi      gas        std         4.0        sedan        fwd   \n",
              "4         audi      gas        std         4.0        sedan        4wd   \n",
              "\n",
              "  enginelocation  wheelbase  carlength  carwidth  carheight enginetype  \\\n",
              "0          front       88.6      168.8      64.1       48.8       dohc   \n",
              "1          front       88.6      168.8      64.1       48.8       dohc   \n",
              "2          front       94.5      171.2      65.5       52.4       ohcv   \n",
              "3          front       99.8      176.6      66.2       54.3        ohc   \n",
              "4          front       99.4      176.6      66.4       54.3        ohc   \n",
              "\n",
              "   cylindernumber  enginesize fuelsystem  compressionratio  horsepower  \\\n",
              "0             4.0       130.0       mpfi               9.0       111.0   \n",
              "1             4.0       130.0       mpfi               9.0       111.0   \n",
              "2             6.0       152.0       mpfi               9.0       154.0   \n",
              "3             4.0       109.0       mpfi              10.0       102.0   \n",
              "4             5.0       136.0       mpfi               8.0       115.0   \n",
              "\n",
              "   citympg  highwaympg    price  \n",
              "0       21          27  13495.0  \n",
              "1       21          27  16500.0  \n",
              "2       19          26  16500.0  \n",
              "3       24          30  13950.0  \n",
              "4       18          22  17450.0  "
            ]
          },
          "execution_count": 144,
          "metadata": {},
          "output_type": "execute_result"
        }
      ],
      "source": [
        "# Drop atribut yang dianggap tidak penting\n",
        "cars_cleaned = merged_cars.drop(['curbweight', 'peakrpm'], axis=1)\n",
        "cars_cleaned.head()"
      ]
    },
    {
      "cell_type": "markdown",
      "metadata": {
        "id": "kv7NsoTEm_zU"
      },
      "source": [
        "Atribut-atribut tersebut dianggap tidak penting berdasarkan pertimbangan, nalar, atau basic knowledge manusia. Sebagai contoh, apabila kita ingin mengukur survival rate penumpang Titanic, atribut nama pada dataset ini tidak mengindikasikan apakah dia survive apa tidak. Selain itu, ada beberapa atribut juga yang mungkin tidak akan mempengaruhi pengukuran tersebut. Sehingga atribut-atribut tersebut dapat didrop.\n"
      ]
    },
    {
      "cell_type": "markdown",
      "metadata": {
        "id": "2wg_F4N3tQPn"
      },
      "source": [
        "Atribut perlu didrop apabila:\n",
        "\n",
        "*   Atribut tidak intuitif.\n",
        "*   Atribut mempunyai banyak missing values.\n",
        "*   Atribut tidak informatif.\n",
        "*   Atribut dapat membahayakan untuk model tertentu.\n",
        "*   Atribut tersebut dapat dihasilkan dari atribut yang lain.\n",
        "\n"
      ]
    },
    {
      "cell_type": "markdown",
      "metadata": {
        "id": "e7Q-qUDPz-Rm"
      },
      "source": [
        "Setelah atribut yang tidak penting dihapus, perlu ditangani atribut yang masih mengandung null value."
      ]
    },
    {
      "cell_type": "code",
      "execution_count": 145,
      "metadata": {
        "id": "vlyjIawArFUI"
      },
      "outputs": [],
      "source": [
        "# Untuk atribut enginelocation, null value akan diisi dengan \"front\"\n",
        "cars_cleaned['enginelocation'] = cars_cleaned['enginelocation'].fillna('front')"
      ]
    },
    {
      "cell_type": "code",
      "execution_count": 146,
      "metadata": {
        "id": "7-kkjlHfgbKt"
      },
      "outputs": [],
      "source": [
        "# Untuk atribut drivewheel, null value akan diisi dengan \"4wd\"\n",
        "cars_cleaned['drivewheel'] = cars_cleaned['drivewheel'].fillna('4wd')"
      ]
    },
    {
      "cell_type": "code",
      "execution_count": 147,
      "metadata": {
        "id": "hYm9ms0Fgnrg"
      },
      "outputs": [],
      "source": [
        "# Untuk atribut enginetype, null value akan diisi dengan \"ohc\"\n",
        "cars_cleaned['enginetype'] = cars_cleaned['enginetype'].fillna('ohc')"
      ]
    },
    {
      "cell_type": "code",
      "execution_count": 148,
      "metadata": {
        "id": "NKY1kVzWrpsV"
      },
      "outputs": [],
      "source": [
        "# Untuk atribute \"cylindernumber\", null value akan diisi dengan nilai mode\n",
        "col = ['cylindernumber']\n",
        "for c in col:\n",
        "    mode = int(cars_cleaned[~cars_cleaned.isna()].cylindernumber.mode())\n",
        "    cars_cleaned[c] = cars_cleaned[c].fillna(mode)"
      ]
    },
    {
      "cell_type": "code",
      "execution_count": 149,
      "metadata": {
        "id": "mhElxhMPjvcZ"
      },
      "outputs": [],
      "source": [
        "# Untuk atribute \"carheight\", null value akan diisi dengan nilai median\n",
        "col = ['carheight']\n",
        "for c in col:\n",
        "    median = int(cars_cleaned[~cars_cleaned.isna()].carheight.median())\n",
        "    cars_cleaned[c] = cars_cleaned[c].fillna(median)"
      ]
    },
    {
      "cell_type": "code",
      "execution_count": 150,
      "metadata": {
        "id": "GclBIWrakQUl"
      },
      "outputs": [],
      "source": [
        "# Untuk atribute \"compressionratio\", null value akan diisi dengan nilai median\n",
        "col = ['compressionratio']\n",
        "for c in col:\n",
        "    median = int(cars_cleaned[~cars_cleaned.isna()].compressionratio.median())\n",
        "    cars_cleaned[c] = cars_cleaned[c].fillna(median)"
      ]
    },
    {
      "cell_type": "code",
      "execution_count": 151,
      "metadata": {
        "colab": {
          "base_uri": "https://localhost:8080/"
        },
        "id": "TSXGJngarAAT",
        "outputId": "72de079d-c0ec-4fa8-bf71-bbc85ea99e68"
      },
      "outputs": [
        {
          "name": "stdout",
          "output_type": "stream",
          "text": [
            "            Total   Percent\n",
            "aspiration      5  0.023697\n",
            "doornumber      5  0.023697\n",
            "carbody         5  0.023697\n",
            "enginesize      5  0.023697\n",
            "fuelsystem      4  0.018957\n",
            "wheelbase       2  0.009479\n",
            "carlength       2  0.009479\n",
            "carwidth        2  0.009479\n",
            "fueltype        1  0.004739\n",
            "horsepower      1  0.004739\n"
          ]
        }
      ],
      "source": [
        "cek_null(cars_cleaned)"
      ]
    },
    {
      "cell_type": "code",
      "execution_count": 152,
      "metadata": {
        "id": "vj9pull1OVGK"
      },
      "outputs": [],
      "source": [
        "# Hapus baris yang atribute \"fare\" bernilai null\n",
        "cars_cleaned.dropna(inplace=True)"
      ]
    },
    {
      "cell_type": "code",
      "execution_count": 153,
      "metadata": {
        "colab": {
          "base_uri": "https://localhost:8080/"
        },
        "id": "ISI2cUbBuapN",
        "outputId": "4a04b4bb-f70c-4610-b16e-ec5944b97a46"
      },
      "outputs": [
        {
          "data": {
            "text/plain": [
              "(191, 20)"
            ]
          },
          "execution_count": 153,
          "metadata": {},
          "output_type": "execute_result"
        }
      ],
      "source": [
        "cars_cleaned.shape"
      ]
    },
    {
      "cell_type": "code",
      "execution_count": 154,
      "metadata": {
        "colab": {
          "base_uri": "https://localhost:8080/",
          "height": 322
        },
        "id": "9IFXEigrOVGK",
        "outputId": "cc033167-a897-49ea-a292-4161c44c33b1"
      },
      "outputs": [
        {
          "data": {
            "text/html": [
              "<div>\n",
              "<style scoped>\n",
              "    .dataframe tbody tr th:only-of-type {\n",
              "        vertical-align: middle;\n",
              "    }\n",
              "\n",
              "    .dataframe tbody tr th {\n",
              "        vertical-align: top;\n",
              "    }\n",
              "\n",
              "    .dataframe thead th {\n",
              "        text-align: right;\n",
              "    }\n",
              "</style>\n",
              "<table border=\"1\" class=\"dataframe\">\n",
              "  <thead>\n",
              "    <tr style=\"text-align: right;\">\n",
              "      <th></th>\n",
              "      <th>CarName</th>\n",
              "      <th>fueltype</th>\n",
              "      <th>aspiration</th>\n",
              "      <th>doornumber</th>\n",
              "      <th>carbody</th>\n",
              "      <th>drivewheel</th>\n",
              "      <th>enginelocation</th>\n",
              "      <th>wheelbase</th>\n",
              "      <th>carlength</th>\n",
              "      <th>carwidth</th>\n",
              "      <th>carheight</th>\n",
              "      <th>enginetype</th>\n",
              "      <th>cylindernumber</th>\n",
              "      <th>enginesize</th>\n",
              "      <th>fuelsystem</th>\n",
              "      <th>compressionratio</th>\n",
              "      <th>horsepower</th>\n",
              "      <th>citympg</th>\n",
              "      <th>highwaympg</th>\n",
              "      <th>price</th>\n",
              "    </tr>\n",
              "  </thead>\n",
              "  <tbody>\n",
              "    <tr>\n",
              "      <th>0</th>\n",
              "      <td>alfa-romero</td>\n",
              "      <td>gas</td>\n",
              "      <td>std</td>\n",
              "      <td>2.0</td>\n",
              "      <td>convertible</td>\n",
              "      <td>rwd</td>\n",
              "      <td>front</td>\n",
              "      <td>88.6</td>\n",
              "      <td>168.8</td>\n",
              "      <td>64.1</td>\n",
              "      <td>48.8</td>\n",
              "      <td>dohc</td>\n",
              "      <td>4.0</td>\n",
              "      <td>130.0</td>\n",
              "      <td>mpfi</td>\n",
              "      <td>9.0</td>\n",
              "      <td>111.0</td>\n",
              "      <td>21</td>\n",
              "      <td>27</td>\n",
              "      <td>13495.0</td>\n",
              "    </tr>\n",
              "    <tr>\n",
              "      <th>1</th>\n",
              "      <td>alfa-romero</td>\n",
              "      <td>gas</td>\n",
              "      <td>std</td>\n",
              "      <td>2.0</td>\n",
              "      <td>convertible</td>\n",
              "      <td>rwd</td>\n",
              "      <td>front</td>\n",
              "      <td>88.6</td>\n",
              "      <td>168.8</td>\n",
              "      <td>64.1</td>\n",
              "      <td>48.8</td>\n",
              "      <td>dohc</td>\n",
              "      <td>4.0</td>\n",
              "      <td>130.0</td>\n",
              "      <td>mpfi</td>\n",
              "      <td>9.0</td>\n",
              "      <td>111.0</td>\n",
              "      <td>21</td>\n",
              "      <td>27</td>\n",
              "      <td>16500.0</td>\n",
              "    </tr>\n",
              "    <tr>\n",
              "      <th>2</th>\n",
              "      <td>alfa-romero</td>\n",
              "      <td>gas</td>\n",
              "      <td>std</td>\n",
              "      <td>2.0</td>\n",
              "      <td>hatchback</td>\n",
              "      <td>rwd</td>\n",
              "      <td>front</td>\n",
              "      <td>94.5</td>\n",
              "      <td>171.2</td>\n",
              "      <td>65.5</td>\n",
              "      <td>52.4</td>\n",
              "      <td>ohcv</td>\n",
              "      <td>6.0</td>\n",
              "      <td>152.0</td>\n",
              "      <td>mpfi</td>\n",
              "      <td>9.0</td>\n",
              "      <td>154.0</td>\n",
              "      <td>19</td>\n",
              "      <td>26</td>\n",
              "      <td>16500.0</td>\n",
              "    </tr>\n",
              "    <tr>\n",
              "      <th>3</th>\n",
              "      <td>audi</td>\n",
              "      <td>gas</td>\n",
              "      <td>std</td>\n",
              "      <td>4.0</td>\n",
              "      <td>sedan</td>\n",
              "      <td>fwd</td>\n",
              "      <td>front</td>\n",
              "      <td>99.8</td>\n",
              "      <td>176.6</td>\n",
              "      <td>66.2</td>\n",
              "      <td>54.3</td>\n",
              "      <td>ohc</td>\n",
              "      <td>4.0</td>\n",
              "      <td>109.0</td>\n",
              "      <td>mpfi</td>\n",
              "      <td>10.0</td>\n",
              "      <td>102.0</td>\n",
              "      <td>24</td>\n",
              "      <td>30</td>\n",
              "      <td>13950.0</td>\n",
              "    </tr>\n",
              "    <tr>\n",
              "      <th>4</th>\n",
              "      <td>audi</td>\n",
              "      <td>gas</td>\n",
              "      <td>std</td>\n",
              "      <td>4.0</td>\n",
              "      <td>sedan</td>\n",
              "      <td>4wd</td>\n",
              "      <td>front</td>\n",
              "      <td>99.4</td>\n",
              "      <td>176.6</td>\n",
              "      <td>66.4</td>\n",
              "      <td>54.3</td>\n",
              "      <td>ohc</td>\n",
              "      <td>5.0</td>\n",
              "      <td>136.0</td>\n",
              "      <td>mpfi</td>\n",
              "      <td>8.0</td>\n",
              "      <td>115.0</td>\n",
              "      <td>18</td>\n",
              "      <td>22</td>\n",
              "      <td>17450.0</td>\n",
              "    </tr>\n",
              "  </tbody>\n",
              "</table>\n",
              "</div>"
            ],
            "text/plain": [
              "       CarName fueltype aspiration  doornumber      carbody drivewheel  \\\n",
              "0  alfa-romero      gas        std         2.0  convertible        rwd   \n",
              "1  alfa-romero      gas        std         2.0  convertible        rwd   \n",
              "2  alfa-romero      gas        std         2.0    hatchback        rwd   \n",
              "3         audi      gas        std         4.0        sedan        fwd   \n",
              "4         audi      gas        std         4.0        sedan        4wd   \n",
              "\n",
              "  enginelocation  wheelbase  carlength  carwidth  carheight enginetype  \\\n",
              "0          front       88.6      168.8      64.1       48.8       dohc   \n",
              "1          front       88.6      168.8      64.1       48.8       dohc   \n",
              "2          front       94.5      171.2      65.5       52.4       ohcv   \n",
              "3          front       99.8      176.6      66.2       54.3        ohc   \n",
              "4          front       99.4      176.6      66.4       54.3        ohc   \n",
              "\n",
              "   cylindernumber  enginesize fuelsystem  compressionratio  horsepower  \\\n",
              "0             4.0       130.0       mpfi               9.0       111.0   \n",
              "1             4.0       130.0       mpfi               9.0       111.0   \n",
              "2             6.0       152.0       mpfi               9.0       154.0   \n",
              "3             4.0       109.0       mpfi              10.0       102.0   \n",
              "4             5.0       136.0       mpfi               8.0       115.0   \n",
              "\n",
              "   citympg  highwaympg    price  \n",
              "0       21          27  13495.0  \n",
              "1       21          27  16500.0  \n",
              "2       19          26  16500.0  \n",
              "3       24          30  13950.0  \n",
              "4       18          22  17450.0  "
            ]
          },
          "execution_count": 154,
          "metadata": {},
          "output_type": "execute_result"
        }
      ],
      "source": [
        "cars_cleaned.head()"
      ]
    },
    {
      "cell_type": "markdown",
      "metadata": {
        "id": "-XF3RHBnqNfa"
      },
      "source": [
        "## Label Encoding"
      ]
    },
    {
      "cell_type": "code",
      "execution_count": 155,
      "metadata": {
        "colab": {
          "base_uri": "https://localhost:8080/"
        },
        "id": "fwlxWzK7ujcs",
        "outputId": "ec24801b-5ce8-4126-f2f4-acdd8f3fb9bd"
      },
      "outputs": [
        {
          "name": "stdout",
          "output_type": "stream",
          "text": [
            "<class 'pandas.core.frame.DataFrame'>\n",
            "Int64Index: 211 entries, 0 to 237\n",
            "Data columns (total 22 columns):\n",
            " #   Column            Non-Null Count  Dtype  \n",
            "---  ------            --------------  -----  \n",
            " 0   CarName           211 non-null    object \n",
            " 1   fueltype          210 non-null    object \n",
            " 2   aspiration        206 non-null    object \n",
            " 3   doornumber        206 non-null    float64\n",
            " 4   carbody           206 non-null    object \n",
            " 5   drivewheel        195 non-null    object \n",
            " 6   enginelocation    192 non-null    object \n",
            " 7   wheelbase         209 non-null    float64\n",
            " 8   carlength         209 non-null    float64\n",
            " 9   carwidth          209 non-null    float64\n",
            " 10  carheight         195 non-null    float64\n",
            " 11  curbweight        36 non-null     float64\n",
            " 12  enginetype        192 non-null    object \n",
            " 13  cylindernumber    192 non-null    float64\n",
            " 14  enginesize        206 non-null    float64\n",
            " 15  fuelsystem        207 non-null    object \n",
            " 16  compressionratio  203 non-null    float64\n",
            " 17  horsepower        210 non-null    float64\n",
            " 18  peakrpm           211 non-null    int64  \n",
            " 19  citympg           211 non-null    int64  \n",
            " 20  highwaympg        211 non-null    int64  \n",
            " 21  price             211 non-null    float64\n",
            "dtypes: float64(11), int64(3), object(8)\n",
            "memory usage: 37.9+ KB\n"
          ]
        }
      ],
      "source": [
        "merged_cars.info()"
      ]
    },
    {
      "cell_type": "code",
      "execution_count": 156,
      "metadata": {
        "id": "YBTW9QWaunGK"
      },
      "outputs": [],
      "source": [
        "# Melakukan label encoding, untuk mengubah data kategorikal bertipe string ke numeric value\n",
        "col = cars_cleaned.select_dtypes(include=[\"object\"]).columns\n",
        "\n",
        "for c in col:\n",
        "    if len(cars_cleaned[c].value_counts()) <= 28:\n",
        "        le = LabelEncoder() \n",
        "        le.fit(list(cars_cleaned[c].values)) \n",
        "        cars_cleaned[c] = le.transform(list(cars_cleaned[c].values))"
      ]
    },
    {
      "cell_type": "code",
      "execution_count": 157,
      "metadata": {
        "colab": {
          "base_uri": "https://localhost:8080/",
          "height": 270
        },
        "id": "oF5FvWysu97L",
        "outputId": "9d44bd6b-fb68-4956-ce61-a2f5021bfc7c"
      },
      "outputs": [
        {
          "data": {
            "text/html": [
              "<div>\n",
              "<style scoped>\n",
              "    .dataframe tbody tr th:only-of-type {\n",
              "        vertical-align: middle;\n",
              "    }\n",
              "\n",
              "    .dataframe tbody tr th {\n",
              "        vertical-align: top;\n",
              "    }\n",
              "\n",
              "    .dataframe thead th {\n",
              "        text-align: right;\n",
              "    }\n",
              "</style>\n",
              "<table border=\"1\" class=\"dataframe\">\n",
              "  <thead>\n",
              "    <tr style=\"text-align: right;\">\n",
              "      <th></th>\n",
              "      <th>CarName</th>\n",
              "      <th>fueltype</th>\n",
              "      <th>aspiration</th>\n",
              "      <th>doornumber</th>\n",
              "      <th>carbody</th>\n",
              "      <th>drivewheel</th>\n",
              "      <th>enginelocation</th>\n",
              "      <th>wheelbase</th>\n",
              "      <th>carlength</th>\n",
              "      <th>carwidth</th>\n",
              "      <th>carheight</th>\n",
              "      <th>enginetype</th>\n",
              "      <th>cylindernumber</th>\n",
              "      <th>enginesize</th>\n",
              "      <th>fuelsystem</th>\n",
              "      <th>compressionratio</th>\n",
              "      <th>horsepower</th>\n",
              "      <th>citympg</th>\n",
              "      <th>highwaympg</th>\n",
              "      <th>price</th>\n",
              "    </tr>\n",
              "  </thead>\n",
              "  <tbody>\n",
              "    <tr>\n",
              "      <th>0</th>\n",
              "      <td>1</td>\n",
              "      <td>1</td>\n",
              "      <td>0</td>\n",
              "      <td>2.0</td>\n",
              "      <td>1</td>\n",
              "      <td>2</td>\n",
              "      <td>0</td>\n",
              "      <td>88.6</td>\n",
              "      <td>168.8</td>\n",
              "      <td>64.1</td>\n",
              "      <td>48.8</td>\n",
              "      <td>0</td>\n",
              "      <td>4.0</td>\n",
              "      <td>130.0</td>\n",
              "      <td>5</td>\n",
              "      <td>9.0</td>\n",
              "      <td>111.0</td>\n",
              "      <td>21</td>\n",
              "      <td>27</td>\n",
              "      <td>13495.0</td>\n",
              "    </tr>\n",
              "    <tr>\n",
              "      <th>1</th>\n",
              "      <td>1</td>\n",
              "      <td>1</td>\n",
              "      <td>0</td>\n",
              "      <td>2.0</td>\n",
              "      <td>1</td>\n",
              "      <td>2</td>\n",
              "      <td>0</td>\n",
              "      <td>88.6</td>\n",
              "      <td>168.8</td>\n",
              "      <td>64.1</td>\n",
              "      <td>48.8</td>\n",
              "      <td>0</td>\n",
              "      <td>4.0</td>\n",
              "      <td>130.0</td>\n",
              "      <td>5</td>\n",
              "      <td>9.0</td>\n",
              "      <td>111.0</td>\n",
              "      <td>21</td>\n",
              "      <td>27</td>\n",
              "      <td>16500.0</td>\n",
              "    </tr>\n",
              "    <tr>\n",
              "      <th>2</th>\n",
              "      <td>1</td>\n",
              "      <td>1</td>\n",
              "      <td>0</td>\n",
              "      <td>2.0</td>\n",
              "      <td>3</td>\n",
              "      <td>2</td>\n",
              "      <td>0</td>\n",
              "      <td>94.5</td>\n",
              "      <td>171.2</td>\n",
              "      <td>65.5</td>\n",
              "      <td>52.4</td>\n",
              "      <td>5</td>\n",
              "      <td>6.0</td>\n",
              "      <td>152.0</td>\n",
              "      <td>5</td>\n",
              "      <td>9.0</td>\n",
              "      <td>154.0</td>\n",
              "      <td>19</td>\n",
              "      <td>26</td>\n",
              "      <td>16500.0</td>\n",
              "    </tr>\n",
              "    <tr>\n",
              "      <th>3</th>\n",
              "      <td>2</td>\n",
              "      <td>1</td>\n",
              "      <td>0</td>\n",
              "      <td>4.0</td>\n",
              "      <td>4</td>\n",
              "      <td>1</td>\n",
              "      <td>0</td>\n",
              "      <td>99.8</td>\n",
              "      <td>176.6</td>\n",
              "      <td>66.2</td>\n",
              "      <td>54.3</td>\n",
              "      <td>3</td>\n",
              "      <td>4.0</td>\n",
              "      <td>109.0</td>\n",
              "      <td>5</td>\n",
              "      <td>10.0</td>\n",
              "      <td>102.0</td>\n",
              "      <td>24</td>\n",
              "      <td>30</td>\n",
              "      <td>13950.0</td>\n",
              "    </tr>\n",
              "    <tr>\n",
              "      <th>4</th>\n",
              "      <td>2</td>\n",
              "      <td>1</td>\n",
              "      <td>0</td>\n",
              "      <td>4.0</td>\n",
              "      <td>4</td>\n",
              "      <td>0</td>\n",
              "      <td>0</td>\n",
              "      <td>99.4</td>\n",
              "      <td>176.6</td>\n",
              "      <td>66.4</td>\n",
              "      <td>54.3</td>\n",
              "      <td>3</td>\n",
              "      <td>5.0</td>\n",
              "      <td>136.0</td>\n",
              "      <td>5</td>\n",
              "      <td>8.0</td>\n",
              "      <td>115.0</td>\n",
              "      <td>18</td>\n",
              "      <td>22</td>\n",
              "      <td>17450.0</td>\n",
              "    </tr>\n",
              "  </tbody>\n",
              "</table>\n",
              "</div>"
            ],
            "text/plain": [
              "   CarName  fueltype  aspiration  doornumber  carbody  drivewheel  \\\n",
              "0        1         1           0         2.0        1           2   \n",
              "1        1         1           0         2.0        1           2   \n",
              "2        1         1           0         2.0        3           2   \n",
              "3        2         1           0         4.0        4           1   \n",
              "4        2         1           0         4.0        4           0   \n",
              "\n",
              "   enginelocation  wheelbase  carlength  carwidth  carheight  enginetype  \\\n",
              "0               0       88.6      168.8      64.1       48.8           0   \n",
              "1               0       88.6      168.8      64.1       48.8           0   \n",
              "2               0       94.5      171.2      65.5       52.4           5   \n",
              "3               0       99.8      176.6      66.2       54.3           3   \n",
              "4               0       99.4      176.6      66.4       54.3           3   \n",
              "\n",
              "   cylindernumber  enginesize  fuelsystem  compressionratio  horsepower  \\\n",
              "0             4.0       130.0           5               9.0       111.0   \n",
              "1             4.0       130.0           5               9.0       111.0   \n",
              "2             6.0       152.0           5               9.0       154.0   \n",
              "3             4.0       109.0           5              10.0       102.0   \n",
              "4             5.0       136.0           5               8.0       115.0   \n",
              "\n",
              "   citympg  highwaympg    price  \n",
              "0       21          27  13495.0  \n",
              "1       21          27  16500.0  \n",
              "2       19          26  16500.0  \n",
              "3       24          30  13950.0  \n",
              "4       18          22  17450.0  "
            ]
          },
          "execution_count": 157,
          "metadata": {},
          "output_type": "execute_result"
        }
      ],
      "source": [
        "cars_cleaned.head()"
      ]
    },
    {
      "cell_type": "code",
      "execution_count": 158,
      "metadata": {
        "colab": {
          "base_uri": "https://localhost:8080/"
        },
        "id": "xBtyn8GqvKyB",
        "outputId": "0b460446-ecdc-4ad8-e4cc-f5b823b7ca9b"
      },
      "outputs": [
        {
          "name": "stdout",
          "output_type": "stream",
          "text": [
            "<class 'pandas.core.frame.DataFrame'>\n",
            "Int64Index: 191 entries, 0 to 237\n",
            "Data columns (total 20 columns):\n",
            " #   Column            Non-Null Count  Dtype  \n",
            "---  ------            --------------  -----  \n",
            " 0   CarName           191 non-null    int32  \n",
            " 1   fueltype          191 non-null    int32  \n",
            " 2   aspiration        191 non-null    int32  \n",
            " 3   doornumber        191 non-null    float64\n",
            " 4   carbody           191 non-null    int32  \n",
            " 5   drivewheel        191 non-null    int32  \n",
            " 6   enginelocation    191 non-null    int32  \n",
            " 7   wheelbase         191 non-null    float64\n",
            " 8   carlength         191 non-null    float64\n",
            " 9   carwidth          191 non-null    float64\n",
            " 10  carheight         191 non-null    float64\n",
            " 11  enginetype        191 non-null    int32  \n",
            " 12  cylindernumber    191 non-null    float64\n",
            " 13  enginesize        191 non-null    float64\n",
            " 14  fuelsystem        191 non-null    int32  \n",
            " 15  compressionratio  191 non-null    float64\n",
            " 16  horsepower        191 non-null    float64\n",
            " 17  citympg           191 non-null    int64  \n",
            " 18  highwaympg        191 non-null    int64  \n",
            " 19  price             191 non-null    float64\n",
            "dtypes: float64(10), int32(8), int64(2)\n",
            "memory usage: 25.4 KB\n"
          ]
        }
      ],
      "source": [
        "cars_cleaned.info()"
      ]
    },
    {
      "cell_type": "markdown",
      "metadata": {
        "id": "6nDpp29PwYOk"
      },
      "source": [
        "## Preparation for Machine Learning"
      ]
    },
    {
      "cell_type": "markdown",
      "metadata": {
        "id": "fM4zMQnVz-Rp"
      },
      "source": [
        "Misalkan kita diberikan tugas untuk melakukan prediksi berapa harga sebuah mobil. Atribut yang menjadi target adalah \"price\", sedangkan atribut lainnya menjadi *predictor* (fitur yang akan menentukan hasil prediksi).\n",
        "\n",
        "Beberapa pemrosesan yang dapat dilakukan sebelum data kita dimasukkan ke dalam algoritma *machine learning* di antaranya (tapi tidak terbatas pada):\n",
        "* Memisahkan atribut target dan atribut *predictor*\n",
        "* Melakukan normalisasi jika diperlukan\n",
        "* Memisahkan data menjadi data *training* dan *testing* (Akan dibahas pada beberapa Lab selanjutnya)"
      ]
    },
    {
      "cell_type": "code",
      "execution_count": 164,
      "metadata": {
        "id": "mSFQ0swwvj1U"
      },
      "outputs": [
        {
          "data": {
            "text/html": [
              "<div>\n",
              "<style scoped>\n",
              "    .dataframe tbody tr th:only-of-type {\n",
              "        vertical-align: middle;\n",
              "    }\n",
              "\n",
              "    .dataframe tbody tr th {\n",
              "        vertical-align: top;\n",
              "    }\n",
              "\n",
              "    .dataframe thead th {\n",
              "        text-align: right;\n",
              "    }\n",
              "</style>\n",
              "<table border=\"1\" class=\"dataframe\">\n",
              "  <thead>\n",
              "    <tr style=\"text-align: right;\">\n",
              "      <th></th>\n",
              "      <th>CarName</th>\n",
              "      <th>fueltype</th>\n",
              "      <th>aspiration</th>\n",
              "      <th>doornumber</th>\n",
              "      <th>carbody</th>\n",
              "      <th>drivewheel</th>\n",
              "      <th>enginelocation</th>\n",
              "      <th>wheelbase</th>\n",
              "      <th>carlength</th>\n",
              "      <th>carwidth</th>\n",
              "      <th>carheight</th>\n",
              "      <th>enginetype</th>\n",
              "      <th>cylindernumber</th>\n",
              "      <th>enginesize</th>\n",
              "      <th>fuelsystem</th>\n",
              "      <th>compressionratio</th>\n",
              "      <th>horsepower</th>\n",
              "      <th>citympg</th>\n",
              "      <th>highwaympg</th>\n",
              "    </tr>\n",
              "  </thead>\n",
              "  <tbody>\n",
              "    <tr>\n",
              "      <th>0</th>\n",
              "      <td>1</td>\n",
              "      <td>1</td>\n",
              "      <td>0</td>\n",
              "      <td>2.0</td>\n",
              "      <td>1</td>\n",
              "      <td>2</td>\n",
              "      <td>0</td>\n",
              "      <td>88.6</td>\n",
              "      <td>168.8</td>\n",
              "      <td>64.1</td>\n",
              "      <td>48.8</td>\n",
              "      <td>0</td>\n",
              "      <td>4.0</td>\n",
              "      <td>130.0</td>\n",
              "      <td>5</td>\n",
              "      <td>9.0</td>\n",
              "      <td>111.0</td>\n",
              "      <td>21</td>\n",
              "      <td>27</td>\n",
              "    </tr>\n",
              "    <tr>\n",
              "      <th>1</th>\n",
              "      <td>1</td>\n",
              "      <td>1</td>\n",
              "      <td>0</td>\n",
              "      <td>2.0</td>\n",
              "      <td>1</td>\n",
              "      <td>2</td>\n",
              "      <td>0</td>\n",
              "      <td>88.6</td>\n",
              "      <td>168.8</td>\n",
              "      <td>64.1</td>\n",
              "      <td>48.8</td>\n",
              "      <td>0</td>\n",
              "      <td>4.0</td>\n",
              "      <td>130.0</td>\n",
              "      <td>5</td>\n",
              "      <td>9.0</td>\n",
              "      <td>111.0</td>\n",
              "      <td>21</td>\n",
              "      <td>27</td>\n",
              "    </tr>\n",
              "    <tr>\n",
              "      <th>2</th>\n",
              "      <td>1</td>\n",
              "      <td>1</td>\n",
              "      <td>0</td>\n",
              "      <td>2.0</td>\n",
              "      <td>3</td>\n",
              "      <td>2</td>\n",
              "      <td>0</td>\n",
              "      <td>94.5</td>\n",
              "      <td>171.2</td>\n",
              "      <td>65.5</td>\n",
              "      <td>52.4</td>\n",
              "      <td>5</td>\n",
              "      <td>6.0</td>\n",
              "      <td>152.0</td>\n",
              "      <td>5</td>\n",
              "      <td>9.0</td>\n",
              "      <td>154.0</td>\n",
              "      <td>19</td>\n",
              "      <td>26</td>\n",
              "    </tr>\n",
              "    <tr>\n",
              "      <th>3</th>\n",
              "      <td>2</td>\n",
              "      <td>1</td>\n",
              "      <td>0</td>\n",
              "      <td>4.0</td>\n",
              "      <td>4</td>\n",
              "      <td>1</td>\n",
              "      <td>0</td>\n",
              "      <td>99.8</td>\n",
              "      <td>176.6</td>\n",
              "      <td>66.2</td>\n",
              "      <td>54.3</td>\n",
              "      <td>3</td>\n",
              "      <td>4.0</td>\n",
              "      <td>109.0</td>\n",
              "      <td>5</td>\n",
              "      <td>10.0</td>\n",
              "      <td>102.0</td>\n",
              "      <td>24</td>\n",
              "      <td>30</td>\n",
              "    </tr>\n",
              "    <tr>\n",
              "      <th>4</th>\n",
              "      <td>2</td>\n",
              "      <td>1</td>\n",
              "      <td>0</td>\n",
              "      <td>4.0</td>\n",
              "      <td>4</td>\n",
              "      <td>0</td>\n",
              "      <td>0</td>\n",
              "      <td>99.4</td>\n",
              "      <td>176.6</td>\n",
              "      <td>66.4</td>\n",
              "      <td>54.3</td>\n",
              "      <td>3</td>\n",
              "      <td>5.0</td>\n",
              "      <td>136.0</td>\n",
              "      <td>5</td>\n",
              "      <td>8.0</td>\n",
              "      <td>115.0</td>\n",
              "      <td>18</td>\n",
              "      <td>22</td>\n",
              "    </tr>\n",
              "    <tr>\n",
              "      <th>...</th>\n",
              "      <td>...</td>\n",
              "      <td>...</td>\n",
              "      <td>...</td>\n",
              "      <td>...</td>\n",
              "      <td>...</td>\n",
              "      <td>...</td>\n",
              "      <td>...</td>\n",
              "      <td>...</td>\n",
              "      <td>...</td>\n",
              "      <td>...</td>\n",
              "      <td>...</td>\n",
              "      <td>...</td>\n",
              "      <td>...</td>\n",
              "      <td>...</td>\n",
              "      <td>...</td>\n",
              "      <td>...</td>\n",
              "      <td>...</td>\n",
              "      <td>...</td>\n",
              "      <td>...</td>\n",
              "    </tr>\n",
              "    <tr>\n",
              "      <th>233</th>\n",
              "      <td>21</td>\n",
              "      <td>1</td>\n",
              "      <td>0</td>\n",
              "      <td>4.0</td>\n",
              "      <td>4</td>\n",
              "      <td>2</td>\n",
              "      <td>0</td>\n",
              "      <td>109.1</td>\n",
              "      <td>188.8</td>\n",
              "      <td>68.9</td>\n",
              "      <td>55.5</td>\n",
              "      <td>3</td>\n",
              "      <td>4.0</td>\n",
              "      <td>141.0</td>\n",
              "      <td>5</td>\n",
              "      <td>9.5</td>\n",
              "      <td>114.0</td>\n",
              "      <td>23</td>\n",
              "      <td>28</td>\n",
              "    </tr>\n",
              "    <tr>\n",
              "      <th>234</th>\n",
              "      <td>21</td>\n",
              "      <td>1</td>\n",
              "      <td>1</td>\n",
              "      <td>4.0</td>\n",
              "      <td>4</td>\n",
              "      <td>2</td>\n",
              "      <td>0</td>\n",
              "      <td>109.1</td>\n",
              "      <td>188.8</td>\n",
              "      <td>68.8</td>\n",
              "      <td>55.5</td>\n",
              "      <td>3</td>\n",
              "      <td>4.0</td>\n",
              "      <td>141.0</td>\n",
              "      <td>5</td>\n",
              "      <td>8.7</td>\n",
              "      <td>160.0</td>\n",
              "      <td>19</td>\n",
              "      <td>25</td>\n",
              "    </tr>\n",
              "    <tr>\n",
              "      <th>235</th>\n",
              "      <td>21</td>\n",
              "      <td>1</td>\n",
              "      <td>0</td>\n",
              "      <td>4.0</td>\n",
              "      <td>4</td>\n",
              "      <td>2</td>\n",
              "      <td>0</td>\n",
              "      <td>109.1</td>\n",
              "      <td>188.8</td>\n",
              "      <td>68.9</td>\n",
              "      <td>55.5</td>\n",
              "      <td>5</td>\n",
              "      <td>6.0</td>\n",
              "      <td>173.0</td>\n",
              "      <td>5</td>\n",
              "      <td>8.8</td>\n",
              "      <td>134.0</td>\n",
              "      <td>18</td>\n",
              "      <td>23</td>\n",
              "    </tr>\n",
              "    <tr>\n",
              "      <th>236</th>\n",
              "      <td>21</td>\n",
              "      <td>0</td>\n",
              "      <td>1</td>\n",
              "      <td>4.0</td>\n",
              "      <td>4</td>\n",
              "      <td>2</td>\n",
              "      <td>0</td>\n",
              "      <td>109.1</td>\n",
              "      <td>188.8</td>\n",
              "      <td>68.9</td>\n",
              "      <td>55.5</td>\n",
              "      <td>3</td>\n",
              "      <td>6.0</td>\n",
              "      <td>145.0</td>\n",
              "      <td>3</td>\n",
              "      <td>23.0</td>\n",
              "      <td>106.0</td>\n",
              "      <td>26</td>\n",
              "      <td>27</td>\n",
              "    </tr>\n",
              "    <tr>\n",
              "      <th>237</th>\n",
              "      <td>21</td>\n",
              "      <td>1</td>\n",
              "      <td>1</td>\n",
              "      <td>4.0</td>\n",
              "      <td>4</td>\n",
              "      <td>2</td>\n",
              "      <td>0</td>\n",
              "      <td>109.1</td>\n",
              "      <td>188.8</td>\n",
              "      <td>68.9</td>\n",
              "      <td>55.5</td>\n",
              "      <td>3</td>\n",
              "      <td>4.0</td>\n",
              "      <td>141.0</td>\n",
              "      <td>5</td>\n",
              "      <td>9.5</td>\n",
              "      <td>114.0</td>\n",
              "      <td>19</td>\n",
              "      <td>25</td>\n",
              "    </tr>\n",
              "  </tbody>\n",
              "</table>\n",
              "<p>191 rows × 19 columns</p>\n",
              "</div>"
            ],
            "text/plain": [
              "     CarName  fueltype  aspiration  doornumber  carbody  drivewheel  \\\n",
              "0          1         1           0         2.0        1           2   \n",
              "1          1         1           0         2.0        1           2   \n",
              "2          1         1           0         2.0        3           2   \n",
              "3          2         1           0         4.0        4           1   \n",
              "4          2         1           0         4.0        4           0   \n",
              "..       ...       ...         ...         ...      ...         ...   \n",
              "233       21         1           0         4.0        4           2   \n",
              "234       21         1           1         4.0        4           2   \n",
              "235       21         1           0         4.0        4           2   \n",
              "236       21         0           1         4.0        4           2   \n",
              "237       21         1           1         4.0        4           2   \n",
              "\n",
              "     enginelocation  wheelbase  carlength  carwidth  carheight  enginetype  \\\n",
              "0                 0       88.6      168.8      64.1       48.8           0   \n",
              "1                 0       88.6      168.8      64.1       48.8           0   \n",
              "2                 0       94.5      171.2      65.5       52.4           5   \n",
              "3                 0       99.8      176.6      66.2       54.3           3   \n",
              "4                 0       99.4      176.6      66.4       54.3           3   \n",
              "..              ...        ...        ...       ...        ...         ...   \n",
              "233               0      109.1      188.8      68.9       55.5           3   \n",
              "234               0      109.1      188.8      68.8       55.5           3   \n",
              "235               0      109.1      188.8      68.9       55.5           5   \n",
              "236               0      109.1      188.8      68.9       55.5           3   \n",
              "237               0      109.1      188.8      68.9       55.5           3   \n",
              "\n",
              "     cylindernumber  enginesize  fuelsystem  compressionratio  horsepower  \\\n",
              "0               4.0       130.0           5               9.0       111.0   \n",
              "1               4.0       130.0           5               9.0       111.0   \n",
              "2               6.0       152.0           5               9.0       154.0   \n",
              "3               4.0       109.0           5              10.0       102.0   \n",
              "4               5.0       136.0           5               8.0       115.0   \n",
              "..              ...         ...         ...               ...         ...   \n",
              "233             4.0       141.0           5               9.5       114.0   \n",
              "234             4.0       141.0           5               8.7       160.0   \n",
              "235             6.0       173.0           5               8.8       134.0   \n",
              "236             6.0       145.0           3              23.0       106.0   \n",
              "237             4.0       141.0           5               9.5       114.0   \n",
              "\n",
              "     citympg  highwaympg  \n",
              "0         21          27  \n",
              "1         21          27  \n",
              "2         19          26  \n",
              "3         24          30  \n",
              "4         18          22  \n",
              "..       ...         ...  \n",
              "233       23          28  \n",
              "234       19          25  \n",
              "235       18          23  \n",
              "236       26          27  \n",
              "237       19          25  \n",
              "\n",
              "[191 rows x 19 columns]"
            ]
          },
          "execution_count": 164,
          "metadata": {},
          "output_type": "execute_result"
        }
      ],
      "source": [
        "# Memisahkan atribut target (Y) dengan atribut predictor (X)\n",
        "X = cars_cleaned.drop('price', axis=1)\n",
        "Y = cars_cleaned['price']\n",
        "X"
      ]
    },
    {
      "cell_type": "markdown",
      "metadata": {
        "id": "PKskkBe55OBI"
      },
      "source": [
        "### **SOAL 3**\n",
        "\n",
        "(a) Lakukan normalisasi pada X. Implementasikan dengan code! Hint: [Dokumentasi Preprocessing Data](https://scikit-learn.org/stable/modules/preprocessing.html#standardization-or-mean-removal-and-variance-scaling)"
      ]
    },
    {
      "cell_type": "code",
      "execution_count": 167,
      "metadata": {
        "id": "WmTNVF8kwQcC"
      },
      "outputs": [
        {
          "data": {
            "text/html": [
              "<div>\n",
              "<style scoped>\n",
              "    .dataframe tbody tr th:only-of-type {\n",
              "        vertical-align: middle;\n",
              "    }\n",
              "\n",
              "    .dataframe tbody tr th {\n",
              "        vertical-align: top;\n",
              "    }\n",
              "\n",
              "    .dataframe thead th {\n",
              "        text-align: right;\n",
              "    }\n",
              "</style>\n",
              "<table border=\"1\" class=\"dataframe\">\n",
              "  <thead>\n",
              "    <tr style=\"text-align: right;\">\n",
              "      <th></th>\n",
              "      <th>0</th>\n",
              "      <th>1</th>\n",
              "      <th>2</th>\n",
              "      <th>3</th>\n",
              "      <th>4</th>\n",
              "      <th>5</th>\n",
              "      <th>6</th>\n",
              "      <th>7</th>\n",
              "      <th>8</th>\n",
              "      <th>9</th>\n",
              "      <th>10</th>\n",
              "      <th>11</th>\n",
              "      <th>12</th>\n",
              "      <th>13</th>\n",
              "      <th>14</th>\n",
              "      <th>15</th>\n",
              "      <th>16</th>\n",
              "      <th>17</th>\n",
              "      <th>18</th>\n",
              "    </tr>\n",
              "  </thead>\n",
              "  <tbody>\n",
              "    <tr>\n",
              "      <th>0</th>\n",
              "      <td>-1.534467</td>\n",
              "      <td>0.341993</td>\n",
              "      <td>-0.457013</td>\n",
              "      <td>-1.165343</td>\n",
              "      <td>-2.962888</td>\n",
              "      <td>1.184073</td>\n",
              "      <td>-0.126323</td>\n",
              "      <td>-1.648793</td>\n",
              "      <td>-0.397337</td>\n",
              "      <td>-0.819696</td>\n",
              "      <td>-2.148384</td>\n",
              "      <td>-3.050509</td>\n",
              "      <td>-0.289335</td>\n",
              "      <td>0.127957</td>\n",
              "      <td>0.923723</td>\n",
              "      <td>-0.316241</td>\n",
              "      <td>0.240841</td>\n",
              "      <td>-0.701706</td>\n",
              "      <td>-0.598126</td>\n",
              "    </tr>\n",
              "    <tr>\n",
              "      <th>1</th>\n",
              "      <td>-1.534467</td>\n",
              "      <td>0.341993</td>\n",
              "      <td>-0.457013</td>\n",
              "      <td>-1.165343</td>\n",
              "      <td>-2.962888</td>\n",
              "      <td>1.184073</td>\n",
              "      <td>-0.126323</td>\n",
              "      <td>-1.648793</td>\n",
              "      <td>-0.397337</td>\n",
              "      <td>-0.819696</td>\n",
              "      <td>-2.148384</td>\n",
              "      <td>-3.050509</td>\n",
              "      <td>-0.289335</td>\n",
              "      <td>0.127957</td>\n",
              "      <td>0.923723</td>\n",
              "      <td>-0.316241</td>\n",
              "      <td>0.240841</td>\n",
              "      <td>-0.701706</td>\n",
              "      <td>-0.598126</td>\n",
              "    </tr>\n",
              "    <tr>\n",
              "      <th>2</th>\n",
              "      <td>-1.534467</td>\n",
              "      <td>0.341993</td>\n",
              "      <td>-0.457013</td>\n",
              "      <td>-1.165343</td>\n",
              "      <td>-0.699242</td>\n",
              "      <td>1.184073</td>\n",
              "      <td>-0.126323</td>\n",
              "      <td>-0.686385</td>\n",
              "      <td>-0.204331</td>\n",
              "      <td>-0.189849</td>\n",
              "      <td>-0.599114</td>\n",
              "      <td>1.955051</td>\n",
              "      <td>1.616287</td>\n",
              "      <td>0.658735</td>\n",
              "      <td>0.923723</td>\n",
              "      <td>-0.316241</td>\n",
              "      <td>1.351469</td>\n",
              "      <td>-1.007353</td>\n",
              "      <td>-0.743287</td>\n",
              "    </tr>\n",
              "    <tr>\n",
              "      <th>3</th>\n",
              "      <td>-1.389088</td>\n",
              "      <td>0.341993</td>\n",
              "      <td>-0.457013</td>\n",
              "      <td>0.858116</td>\n",
              "      <td>0.432582</td>\n",
              "      <td>-0.386468</td>\n",
              "      <td>-0.126323</td>\n",
              "      <td>0.178151</td>\n",
              "      <td>0.229931</td>\n",
              "      <td>0.125074</td>\n",
              "      <td>0.218556</td>\n",
              "      <td>-0.047173</td>\n",
              "      <td>-0.289335</td>\n",
              "      <td>-0.378693</td>\n",
              "      <td>0.923723</td>\n",
              "      <td>-0.070124</td>\n",
              "      <td>0.008384</td>\n",
              "      <td>-0.243237</td>\n",
              "      <td>-0.162642</td>\n",
              "    </tr>\n",
              "    <tr>\n",
              "      <th>4</th>\n",
              "      <td>-1.389088</td>\n",
              "      <td>0.341993</td>\n",
              "      <td>-0.457013</td>\n",
              "      <td>0.858116</td>\n",
              "      <td>0.432582</td>\n",
              "      <td>-1.957009</td>\n",
              "      <td>-0.126323</td>\n",
              "      <td>0.112903</td>\n",
              "      <td>0.229931</td>\n",
              "      <td>0.215053</td>\n",
              "      <td>0.218556</td>\n",
              "      <td>-0.047173</td>\n",
              "      <td>0.663476</td>\n",
              "      <td>0.272715</td>\n",
              "      <td>0.923723</td>\n",
              "      <td>-0.562358</td>\n",
              "      <td>0.344155</td>\n",
              "      <td>-1.160176</td>\n",
              "      <td>-1.323933</td>\n",
              "    </tr>\n",
              "    <tr>\n",
              "      <th>...</th>\n",
              "      <td>...</td>\n",
              "      <td>...</td>\n",
              "      <td>...</td>\n",
              "      <td>...</td>\n",
              "      <td>...</td>\n",
              "      <td>...</td>\n",
              "      <td>...</td>\n",
              "      <td>...</td>\n",
              "      <td>...</td>\n",
              "      <td>...</td>\n",
              "      <td>...</td>\n",
              "      <td>...</td>\n",
              "      <td>...</td>\n",
              "      <td>...</td>\n",
              "      <td>...</td>\n",
              "      <td>...</td>\n",
              "      <td>...</td>\n",
              "      <td>...</td>\n",
              "      <td>...</td>\n",
              "    </tr>\n",
              "    <tr>\n",
              "      <th>186</th>\n",
              "      <td>1.373104</td>\n",
              "      <td>0.341993</td>\n",
              "      <td>-0.457013</td>\n",
              "      <td>0.858116</td>\n",
              "      <td>0.432582</td>\n",
              "      <td>1.184073</td>\n",
              "      <td>-0.126323</td>\n",
              "      <td>1.695167</td>\n",
              "      <td>1.211041</td>\n",
              "      <td>1.339780</td>\n",
              "      <td>0.734979</td>\n",
              "      <td>-0.047173</td>\n",
              "      <td>-0.289335</td>\n",
              "      <td>0.393346</td>\n",
              "      <td>0.923723</td>\n",
              "      <td>-0.193183</td>\n",
              "      <td>0.318327</td>\n",
              "      <td>-0.396060</td>\n",
              "      <td>-0.452964</td>\n",
              "    </tr>\n",
              "    <tr>\n",
              "      <th>187</th>\n",
              "      <td>1.373104</td>\n",
              "      <td>0.341993</td>\n",
              "      <td>2.188122</td>\n",
              "      <td>0.858116</td>\n",
              "      <td>0.432582</td>\n",
              "      <td>1.184073</td>\n",
              "      <td>-0.126323</td>\n",
              "      <td>1.695167</td>\n",
              "      <td>1.211041</td>\n",
              "      <td>1.294791</td>\n",
              "      <td>0.734979</td>\n",
              "      <td>-0.047173</td>\n",
              "      <td>-0.289335</td>\n",
              "      <td>0.393346</td>\n",
              "      <td>0.923723</td>\n",
              "      <td>-0.390076</td>\n",
              "      <td>1.506440</td>\n",
              "      <td>-1.007353</td>\n",
              "      <td>-0.888449</td>\n",
              "    </tr>\n",
              "    <tr>\n",
              "      <th>188</th>\n",
              "      <td>1.373104</td>\n",
              "      <td>0.341993</td>\n",
              "      <td>-0.457013</td>\n",
              "      <td>0.858116</td>\n",
              "      <td>0.432582</td>\n",
              "      <td>1.184073</td>\n",
              "      <td>-0.126323</td>\n",
              "      <td>1.695167</td>\n",
              "      <td>1.211041</td>\n",
              "      <td>1.339780</td>\n",
              "      <td>0.734979</td>\n",
              "      <td>1.955051</td>\n",
              "      <td>1.616287</td>\n",
              "      <td>1.165385</td>\n",
              "      <td>0.923723</td>\n",
              "      <td>-0.365464</td>\n",
              "      <td>0.834898</td>\n",
              "      <td>-1.160176</td>\n",
              "      <td>-1.178772</td>\n",
              "    </tr>\n",
              "    <tr>\n",
              "      <th>189</th>\n",
              "      <td>1.373104</td>\n",
              "      <td>-2.924038</td>\n",
              "      <td>2.188122</td>\n",
              "      <td>0.858116</td>\n",
              "      <td>0.432582</td>\n",
              "      <td>1.184073</td>\n",
              "      <td>-0.126323</td>\n",
              "      <td>1.695167</td>\n",
              "      <td>1.211041</td>\n",
              "      <td>1.339780</td>\n",
              "      <td>0.734979</td>\n",
              "      <td>-0.047173</td>\n",
              "      <td>1.616287</td>\n",
              "      <td>0.489851</td>\n",
              "      <td>-0.075887</td>\n",
              "      <td>3.129398</td>\n",
              "      <td>0.111698</td>\n",
              "      <td>0.062409</td>\n",
              "      <td>-0.598126</td>\n",
              "    </tr>\n",
              "    <tr>\n",
              "      <th>190</th>\n",
              "      <td>1.373104</td>\n",
              "      <td>0.341993</td>\n",
              "      <td>2.188122</td>\n",
              "      <td>0.858116</td>\n",
              "      <td>0.432582</td>\n",
              "      <td>1.184073</td>\n",
              "      <td>-0.126323</td>\n",
              "      <td>1.695167</td>\n",
              "      <td>1.211041</td>\n",
              "      <td>1.339780</td>\n",
              "      <td>0.734979</td>\n",
              "      <td>-0.047173</td>\n",
              "      <td>-0.289335</td>\n",
              "      <td>0.393346</td>\n",
              "      <td>0.923723</td>\n",
              "      <td>-0.193183</td>\n",
              "      <td>0.318327</td>\n",
              "      <td>-1.007353</td>\n",
              "      <td>-0.888449</td>\n",
              "    </tr>\n",
              "  </tbody>\n",
              "</table>\n",
              "<p>191 rows × 19 columns</p>\n",
              "</div>"
            ],
            "text/plain": [
              "           0         1         2         3         4         5         6   \\\n",
              "0   -1.534467  0.341993 -0.457013 -1.165343 -2.962888  1.184073 -0.126323   \n",
              "1   -1.534467  0.341993 -0.457013 -1.165343 -2.962888  1.184073 -0.126323   \n",
              "2   -1.534467  0.341993 -0.457013 -1.165343 -0.699242  1.184073 -0.126323   \n",
              "3   -1.389088  0.341993 -0.457013  0.858116  0.432582 -0.386468 -0.126323   \n",
              "4   -1.389088  0.341993 -0.457013  0.858116  0.432582 -1.957009 -0.126323   \n",
              "..        ...       ...       ...       ...       ...       ...       ...   \n",
              "186  1.373104  0.341993 -0.457013  0.858116  0.432582  1.184073 -0.126323   \n",
              "187  1.373104  0.341993  2.188122  0.858116  0.432582  1.184073 -0.126323   \n",
              "188  1.373104  0.341993 -0.457013  0.858116  0.432582  1.184073 -0.126323   \n",
              "189  1.373104 -2.924038  2.188122  0.858116  0.432582  1.184073 -0.126323   \n",
              "190  1.373104  0.341993  2.188122  0.858116  0.432582  1.184073 -0.126323   \n",
              "\n",
              "           7         8         9         10        11        12        13  \\\n",
              "0   -1.648793 -0.397337 -0.819696 -2.148384 -3.050509 -0.289335  0.127957   \n",
              "1   -1.648793 -0.397337 -0.819696 -2.148384 -3.050509 -0.289335  0.127957   \n",
              "2   -0.686385 -0.204331 -0.189849 -0.599114  1.955051  1.616287  0.658735   \n",
              "3    0.178151  0.229931  0.125074  0.218556 -0.047173 -0.289335 -0.378693   \n",
              "4    0.112903  0.229931  0.215053  0.218556 -0.047173  0.663476  0.272715   \n",
              "..        ...       ...       ...       ...       ...       ...       ...   \n",
              "186  1.695167  1.211041  1.339780  0.734979 -0.047173 -0.289335  0.393346   \n",
              "187  1.695167  1.211041  1.294791  0.734979 -0.047173 -0.289335  0.393346   \n",
              "188  1.695167  1.211041  1.339780  0.734979  1.955051  1.616287  1.165385   \n",
              "189  1.695167  1.211041  1.339780  0.734979 -0.047173  1.616287  0.489851   \n",
              "190  1.695167  1.211041  1.339780  0.734979 -0.047173 -0.289335  0.393346   \n",
              "\n",
              "           14        15        16        17        18  \n",
              "0    0.923723 -0.316241  0.240841 -0.701706 -0.598126  \n",
              "1    0.923723 -0.316241  0.240841 -0.701706 -0.598126  \n",
              "2    0.923723 -0.316241  1.351469 -1.007353 -0.743287  \n",
              "3    0.923723 -0.070124  0.008384 -0.243237 -0.162642  \n",
              "4    0.923723 -0.562358  0.344155 -1.160176 -1.323933  \n",
              "..        ...       ...       ...       ...       ...  \n",
              "186  0.923723 -0.193183  0.318327 -0.396060 -0.452964  \n",
              "187  0.923723 -0.390076  1.506440 -1.007353 -0.888449  \n",
              "188  0.923723 -0.365464  0.834898 -1.160176 -1.178772  \n",
              "189 -0.075887  3.129398  0.111698  0.062409 -0.598126  \n",
              "190  0.923723 -0.193183  0.318327 -1.007353 -0.888449  \n",
              "\n",
              "[191 rows x 19 columns]"
            ]
          },
          "execution_count": 167,
          "metadata": {},
          "output_type": "execute_result"
        }
      ],
      "source": [
        "# 3(a) Implementasi code di sini\n",
        "from sklearn import preprocessing\n",
        "scaler = preprocessing.StandardScaler()\n",
        "scaled = scaler.fit_transform(X)\n",
        "X = pd.DataFrame(scaled)\n",
        "X"
      ]
    },
    {
      "cell_type": "markdown",
      "metadata": {
        "id": "n2F8ksSpz-Rp"
      },
      "source": [
        "(b) Bentuk normalisasi apa yang Anda pilih? Apa alasannya? \n",
        "\n",
        "Saya menggunakan metode Standard scaler atau menggunakan z score karena sebelumnya saya masih mempunyai data yang memiliki outliers dan tidak saya remove outliersnya sehingga metode ini cocok untuk tipe data yang saya gunakan."
      ]
    },
    {
      "cell_type": "markdown",
      "metadata": {
        "id": "IEdkNNOqz-Rp"
      },
      "source": [
        "(c) Menurut Anda, mengapa normalisasi perlu dilakukan? \n",
        "\n",
        "Normalisasi perlu dilakukan agar data yang diolah dapat memiliki nilai yang relatif lebih kecil dan lebih mudah dipahami karena beberapa kolom memiliki range nilai yang berbeda-beda dengan nilai yang jauh berbeda juga. Data juga terkadang memiliki dimensi yang berbeda sehingga dengan normalisasi kita dapat membuat data memiliki skala yang sama. Lalu, normalisasi juga dapat mengurangi redudansi dan kompleksitas sehingga memori bisa berkurang dan proses pengolahan berikutnya dapat berjalan lebih cepat."
      ]
    },
    {
      "cell_type": "markdown",
      "metadata": {
        "id": "Af4QY1N0XY0f"
      },
      "source": [
        "## 2. Principal Component Analysis"
      ]
    },
    {
      "cell_type": "markdown",
      "metadata": {
        "id": "yfTvFp_RYLjD"
      },
      "source": [
        "# Dimensionality Reduction (PCA)\n",
        "\n",
        "Library `scikit-learn` telah menyediakan modul `decomposition` yang dapat digunakan untuk melakukan PCA. Cara kerja PCA pada library ini serupa dengan step by step yang telah dilakukan pada bagian sebelumnya.\n",
        "\n",
        "\n",
        "Dokumentasi lebih lanjut dapat dilihat di https://scikit-learn.org/stable/modules/generated/sklearn.decomposition.PCA.html"
      ]
    },
    {
      "cell_type": "code",
      "execution_count": 98,
      "metadata": {
        "id": "8hy1JDdqXYlb"
      },
      "outputs": [],
      "source": [
        "# Import modul PCA\n",
        "from sklearn.decomposition import PCA "
      ]
    },
    {
      "cell_type": "code",
      "execution_count": 99,
      "metadata": {
        "id": "MIM5iBTSZDQp"
      },
      "outputs": [],
      "source": [
        "# gunakan data iris dari sklearn\n",
        "from sklearn.datasets import load_iris\n",
        "iris = load_iris()\n",
        "\n",
        "\n",
        "iris_df = pd.DataFrame(iris['data'],columns=iris['feature_names'])"
      ]
    },
    {
      "cell_type": "code",
      "execution_count": 100,
      "metadata": {
        "colab": {
          "base_uri": "https://localhost:8080/"
        },
        "id": "t4UpdghMxwFO",
        "outputId": "62137cf4-cab6-4a1e-964a-9f7cc4b76ee5"
      },
      "outputs": [
        {
          "data": {
            "text/plain": [
              "(150, 4)"
            ]
          },
          "execution_count": 100,
          "metadata": {},
          "output_type": "execute_result"
        }
      ],
      "source": [
        "# features=['sepal_length','sepal_width','petal_length','petal_width']\n",
        "# x=iris['feature_names']\n",
        "# y=iris.species\n",
        "\n",
        "iris_df.shape"
      ]
    },
    {
      "cell_type": "markdown",
      "metadata": {
        "id": "AsF1FYRPZiQh"
      },
      "source": [
        "### Scaling"
      ]
    },
    {
      "cell_type": "code",
      "execution_count": 101,
      "metadata": {
        "id": "nfWDbvqCZhrF"
      },
      "outputs": [],
      "source": [
        "# initialize PCA\n",
        "pca = PCA()  "
      ]
    },
    {
      "cell_type": "code",
      "execution_count": 102,
      "metadata": {
        "colab": {
          "base_uri": "https://localhost:8080/"
        },
        "id": "Xt6C-xaPtPrD",
        "outputId": "21193f44-cfd5-406e-e8f2-366a244f2e82"
      },
      "outputs": [
        {
          "data": {
            "text/html": [
              "<style>#sk-container-id-1 {color: black;background-color: white;}#sk-container-id-1 pre{padding: 0;}#sk-container-id-1 div.sk-toggleable {background-color: white;}#sk-container-id-1 label.sk-toggleable__label {cursor: pointer;display: block;width: 100%;margin-bottom: 0;padding: 0.3em;box-sizing: border-box;text-align: center;}#sk-container-id-1 label.sk-toggleable__label-arrow:before {content: \"▸\";float: left;margin-right: 0.25em;color: #696969;}#sk-container-id-1 label.sk-toggleable__label-arrow:hover:before {color: black;}#sk-container-id-1 div.sk-estimator:hover label.sk-toggleable__label-arrow:before {color: black;}#sk-container-id-1 div.sk-toggleable__content {max-height: 0;max-width: 0;overflow: hidden;text-align: left;background-color: #f0f8ff;}#sk-container-id-1 div.sk-toggleable__content pre {margin: 0.2em;color: black;border-radius: 0.25em;background-color: #f0f8ff;}#sk-container-id-1 input.sk-toggleable__control:checked~div.sk-toggleable__content {max-height: 200px;max-width: 100%;overflow: auto;}#sk-container-id-1 input.sk-toggleable__control:checked~label.sk-toggleable__label-arrow:before {content: \"▾\";}#sk-container-id-1 div.sk-estimator input.sk-toggleable__control:checked~label.sk-toggleable__label {background-color: #d4ebff;}#sk-container-id-1 div.sk-label input.sk-toggleable__control:checked~label.sk-toggleable__label {background-color: #d4ebff;}#sk-container-id-1 input.sk-hidden--visually {border: 0;clip: rect(1px 1px 1px 1px);clip: rect(1px, 1px, 1px, 1px);height: 1px;margin: -1px;overflow: hidden;padding: 0;position: absolute;width: 1px;}#sk-container-id-1 div.sk-estimator {font-family: monospace;background-color: #f0f8ff;border: 1px dotted black;border-radius: 0.25em;box-sizing: border-box;margin-bottom: 0.5em;}#sk-container-id-1 div.sk-estimator:hover {background-color: #d4ebff;}#sk-container-id-1 div.sk-parallel-item::after {content: \"\";width: 100%;border-bottom: 1px solid gray;flex-grow: 1;}#sk-container-id-1 div.sk-label:hover label.sk-toggleable__label {background-color: #d4ebff;}#sk-container-id-1 div.sk-serial::before {content: \"\";position: absolute;border-left: 1px solid gray;box-sizing: border-box;top: 0;bottom: 0;left: 50%;z-index: 0;}#sk-container-id-1 div.sk-serial {display: flex;flex-direction: column;align-items: center;background-color: white;padding-right: 0.2em;padding-left: 0.2em;position: relative;}#sk-container-id-1 div.sk-item {position: relative;z-index: 1;}#sk-container-id-1 div.sk-parallel {display: flex;align-items: stretch;justify-content: center;background-color: white;position: relative;}#sk-container-id-1 div.sk-item::before, #sk-container-id-1 div.sk-parallel-item::before {content: \"\";position: absolute;border-left: 1px solid gray;box-sizing: border-box;top: 0;bottom: 0;left: 50%;z-index: -1;}#sk-container-id-1 div.sk-parallel-item {display: flex;flex-direction: column;z-index: 1;position: relative;background-color: white;}#sk-container-id-1 div.sk-parallel-item:first-child::after {align-self: flex-end;width: 50%;}#sk-container-id-1 div.sk-parallel-item:last-child::after {align-self: flex-start;width: 50%;}#sk-container-id-1 div.sk-parallel-item:only-child::after {width: 0;}#sk-container-id-1 div.sk-dashed-wrapped {border: 1px dashed gray;margin: 0 0.4em 0.5em 0.4em;box-sizing: border-box;padding-bottom: 0.4em;background-color: white;}#sk-container-id-1 div.sk-label label {font-family: monospace;font-weight: bold;display: inline-block;line-height: 1.2em;}#sk-container-id-1 div.sk-label-container {text-align: center;}#sk-container-id-1 div.sk-container {/* jupyter's `normalize.less` sets `[hidden] { display: none; }` but bootstrap.min.css set `[hidden] { display: none !important; }` so we also need the `!important` here to be able to override the default hidden behavior on the sphinx rendered scikit-learn.org. See: https://github.com/scikit-learn/scikit-learn/issues/21755 */display: inline-block !important;position: relative;}#sk-container-id-1 div.sk-text-repr-fallback {display: none;}</style><div id=\"sk-container-id-1\" class=\"sk-top-container\"><div class=\"sk-text-repr-fallback\"><pre>StandardScaler()</pre><b>In a Jupyter environment, please rerun this cell to show the HTML representation or trust the notebook. <br />On GitHub, the HTML representation is unable to render, please try loading this page with nbviewer.org.</b></div><div class=\"sk-container\" hidden><div class=\"sk-item\"><div class=\"sk-estimator sk-toggleable\"><input class=\"sk-toggleable__control sk-hidden--visually\" id=\"sk-estimator-id-1\" type=\"checkbox\" checked><label for=\"sk-estimator-id-1\" class=\"sk-toggleable__label sk-toggleable__label-arrow\">StandardScaler</label><div class=\"sk-toggleable__content\"><pre>StandardScaler()</pre></div></div></div></div></div>"
            ],
            "text/plain": [
              "StandardScaler()"
            ]
          },
          "execution_count": 102,
          "metadata": {},
          "output_type": "execute_result"
        }
      ],
      "source": [
        "from sklearn.preprocessing import StandardScaler\n",
        "scaler = StandardScaler()\n",
        "scaler.fit(iris_df)"
      ]
    },
    {
      "cell_type": "code",
      "execution_count": 103,
      "metadata": {
        "id": "7_8Og_bWtQG7"
      },
      "outputs": [],
      "source": [
        "scaled_data = scaler.transform(iris_df)"
      ]
    },
    {
      "cell_type": "code",
      "execution_count": 104,
      "metadata": {
        "colab": {
          "base_uri": "https://localhost:8080/"
        },
        "id": "treIUVD_ZqJ3",
        "outputId": "e9f7719f-9896-4607-db17-4e3b5d834beb"
      },
      "outputs": [
        {
          "data": {
            "text/html": [
              "<style>#sk-container-id-2 {color: black;background-color: white;}#sk-container-id-2 pre{padding: 0;}#sk-container-id-2 div.sk-toggleable {background-color: white;}#sk-container-id-2 label.sk-toggleable__label {cursor: pointer;display: block;width: 100%;margin-bottom: 0;padding: 0.3em;box-sizing: border-box;text-align: center;}#sk-container-id-2 label.sk-toggleable__label-arrow:before {content: \"▸\";float: left;margin-right: 0.25em;color: #696969;}#sk-container-id-2 label.sk-toggleable__label-arrow:hover:before {color: black;}#sk-container-id-2 div.sk-estimator:hover label.sk-toggleable__label-arrow:before {color: black;}#sk-container-id-2 div.sk-toggleable__content {max-height: 0;max-width: 0;overflow: hidden;text-align: left;background-color: #f0f8ff;}#sk-container-id-2 div.sk-toggleable__content pre {margin: 0.2em;color: black;border-radius: 0.25em;background-color: #f0f8ff;}#sk-container-id-2 input.sk-toggleable__control:checked~div.sk-toggleable__content {max-height: 200px;max-width: 100%;overflow: auto;}#sk-container-id-2 input.sk-toggleable__control:checked~label.sk-toggleable__label-arrow:before {content: \"▾\";}#sk-container-id-2 div.sk-estimator input.sk-toggleable__control:checked~label.sk-toggleable__label {background-color: #d4ebff;}#sk-container-id-2 div.sk-label input.sk-toggleable__control:checked~label.sk-toggleable__label {background-color: #d4ebff;}#sk-container-id-2 input.sk-hidden--visually {border: 0;clip: rect(1px 1px 1px 1px);clip: rect(1px, 1px, 1px, 1px);height: 1px;margin: -1px;overflow: hidden;padding: 0;position: absolute;width: 1px;}#sk-container-id-2 div.sk-estimator {font-family: monospace;background-color: #f0f8ff;border: 1px dotted black;border-radius: 0.25em;box-sizing: border-box;margin-bottom: 0.5em;}#sk-container-id-2 div.sk-estimator:hover {background-color: #d4ebff;}#sk-container-id-2 div.sk-parallel-item::after {content: \"\";width: 100%;border-bottom: 1px solid gray;flex-grow: 1;}#sk-container-id-2 div.sk-label:hover label.sk-toggleable__label {background-color: #d4ebff;}#sk-container-id-2 div.sk-serial::before {content: \"\";position: absolute;border-left: 1px solid gray;box-sizing: border-box;top: 0;bottom: 0;left: 50%;z-index: 0;}#sk-container-id-2 div.sk-serial {display: flex;flex-direction: column;align-items: center;background-color: white;padding-right: 0.2em;padding-left: 0.2em;position: relative;}#sk-container-id-2 div.sk-item {position: relative;z-index: 1;}#sk-container-id-2 div.sk-parallel {display: flex;align-items: stretch;justify-content: center;background-color: white;position: relative;}#sk-container-id-2 div.sk-item::before, #sk-container-id-2 div.sk-parallel-item::before {content: \"\";position: absolute;border-left: 1px solid gray;box-sizing: border-box;top: 0;bottom: 0;left: 50%;z-index: -1;}#sk-container-id-2 div.sk-parallel-item {display: flex;flex-direction: column;z-index: 1;position: relative;background-color: white;}#sk-container-id-2 div.sk-parallel-item:first-child::after {align-self: flex-end;width: 50%;}#sk-container-id-2 div.sk-parallel-item:last-child::after {align-self: flex-start;width: 50%;}#sk-container-id-2 div.sk-parallel-item:only-child::after {width: 0;}#sk-container-id-2 div.sk-dashed-wrapped {border: 1px dashed gray;margin: 0 0.4em 0.5em 0.4em;box-sizing: border-box;padding-bottom: 0.4em;background-color: white;}#sk-container-id-2 div.sk-label label {font-family: monospace;font-weight: bold;display: inline-block;line-height: 1.2em;}#sk-container-id-2 div.sk-label-container {text-align: center;}#sk-container-id-2 div.sk-container {/* jupyter's `normalize.less` sets `[hidden] { display: none; }` but bootstrap.min.css set `[hidden] { display: none !important; }` so we also need the `!important` here to be able to override the default hidden behavior on the sphinx rendered scikit-learn.org. See: https://github.com/scikit-learn/scikit-learn/issues/21755 */display: inline-block !important;position: relative;}#sk-container-id-2 div.sk-text-repr-fallback {display: none;}</style><div id=\"sk-container-id-2\" class=\"sk-top-container\"><div class=\"sk-text-repr-fallback\"><pre>PCA()</pre><b>In a Jupyter environment, please rerun this cell to show the HTML representation or trust the notebook. <br />On GitHub, the HTML representation is unable to render, please try loading this page with nbviewer.org.</b></div><div class=\"sk-container\" hidden><div class=\"sk-item\"><div class=\"sk-estimator sk-toggleable\"><input class=\"sk-toggleable__control sk-hidden--visually\" id=\"sk-estimator-id-2\" type=\"checkbox\" checked><label for=\"sk-estimator-id-2\" class=\"sk-toggleable__label sk-toggleable__label-arrow\">PCA</label><div class=\"sk-toggleable__content\"><pre>PCA()</pre></div></div></div></div></div>"
            ],
            "text/plain": [
              "PCA()"
            ]
          },
          "execution_count": 104,
          "metadata": {},
          "output_type": "execute_result"
        }
      ],
      "source": [
        "# Fit the model with \"scaled_data\".\n",
        "pca.fit(scaled_data)"
      ]
    },
    {
      "cell_type": "code",
      "execution_count": 105,
      "metadata": {
        "id": "mWgnzSuPwmmZ"
      },
      "outputs": [],
      "source": [
        "trans_pca = pca.transform(scaled_data)"
      ]
    },
    {
      "cell_type": "code",
      "execution_count": 106,
      "metadata": {
        "colab": {
          "base_uri": "https://localhost:8080/"
        },
        "id": "yXM5nnOxwhIf",
        "outputId": "bf489255-d6e6-4175-824e-38e285c166bb"
      },
      "outputs": [
        {
          "data": {
            "text/plain": [
              "(150, 4)"
            ]
          },
          "execution_count": 106,
          "metadata": {},
          "output_type": "execute_result"
        }
      ],
      "source": [
        "trans_pca.shape"
      ]
    },
    {
      "cell_type": "code",
      "execution_count": 107,
      "metadata": {
        "colab": {
          "base_uri": "https://localhost:8080/"
        },
        "id": "cAzCXbSZ0qtE",
        "outputId": "6c1726fd-70f8-4ade-eba6-664726e5a570"
      },
      "outputs": [
        {
          "data": {
            "text/plain": [
              "array([0.72962445, 0.22850762, 0.03668922, 0.00517871])"
            ]
          },
          "execution_count": 107,
          "metadata": {},
          "output_type": "execute_result"
        }
      ],
      "source": [
        "# explained variants\n",
        "explained_variants = pca.explained_variance_ratio_\n",
        "explained_variants"
      ]
    },
    {
      "cell_type": "code",
      "execution_count": 108,
      "metadata": {
        "colab": {
          "base_uri": "https://localhost:8080/",
          "height": 333
        },
        "id": "PCoMy-nd1He6",
        "outputId": "11e5e3ea-53ab-45ab-90ce-8f91a58e4488"
      },
      "outputs": [
        {
          "data": {
            "image/png": "[encoded data removed]",
            "text/plain": [
              "<Figure size 640x480 with 1 Axes>"
            ]
          },
          "metadata": {},
          "output_type": "display_data"
        }
      ],
      "source": [
        "\n",
        "plt.plot(range(0,4), explained_variants)\n",
        "plt.ylabel('Explained Variance')\n",
        "plt.xlabel('Principal Components')\n",
        "plt.xticks(range(0,4),\n",
        "           [\"1st comp\", \"2nd comp\", \"3rd comp\", \"4th comp\"], rotation=60)\n",
        "plt.title('Explained Variance Ratio')\n",
        "plt.show()"
      ]
    },
    {
      "cell_type": "markdown",
      "metadata": {
        "id": "Exs-NM8v713E"
      },
      "source": [
        "Dari grafik, dapat terlihat Principle Components sudah merangkap 95% variance data"
      ]
    },
    {
      "cell_type": "code",
      "execution_count": 109,
      "metadata": {
        "id": "9CB1jjsj2n8z"
      },
      "outputs": [],
      "source": [
        "\n",
        "\n",
        "from numpy.random import rand\n",
        "\n",
        "# Inverse PCA menggunakan satu component saja\n",
        "def inverse_pca(pca_data, pca, remove_n):\n",
        "    transformed = pca_data.copy()\n",
        "    transformed[:, -remove_n:] = 0 \n",
        "    return pca.inverse_transform(transformed)\n",
        "\n",
        "LL = inverse_pca(trans_pca, pca, 1)\n",
        "\n"
      ]
    },
    {
      "cell_type": "code",
      "execution_count": 110,
      "metadata": {
        "colab": {
          "base_uri": "https://localhost:8080/",
          "height": 406
        },
        "id": "SMGhehiq20Wn",
        "outputId": "ed018e70-b8f6-4f93-b061-8f33192ad7c4"
      },
      "outputs": [
        {
          "data": {
            "text/plain": [
              "Text(0, 0.5, 'Original sepal width')"
            ]
          },
          "execution_count": 110,
          "metadata": {},
          "output_type": "execute_result"
        },
        {
          "data": {
            "image/png": "[encoded data removed]",
            "text/plain": [
              "<Figure size 800x600 with 1 Axes>"
            ]
          },
          "metadata": {},
          "output_type": "display_data"
        }
      ],
      "source": [
        "plt.figure(figsize=(8,6))\n",
        "scatter = plt.scatter(scaled_data[:,0],scaled_data[:,1],c=iris['target'], cmap='plasma')\n",
        "plt.legend(*scatter.legend_elements())\n",
        "plt.xlabel('Original sepal length')\n",
        "plt.ylabel('Original sepal width')\n",
        "\n",
        "# Blue: Setosa\n",
        "# Pink: Versicolor\n",
        "# Yellow: Virginica"
      ]
    },
    {
      "cell_type": "code",
      "execution_count": 111,
      "metadata": {
        "colab": {
          "base_uri": "https://localhost:8080/",
          "height": 406
        },
        "id": "iWviI5iF3T0Q",
        "outputId": "dc6c4c66-d0dd-480c-b6a7-6d5cb9aeafd1"
      },
      "outputs": [
        {
          "data": {
            "text/plain": [
              "Text(0, 0.5, 'LL sepal width')"
            ]
          },
          "execution_count": 111,
          "metadata": {},
          "output_type": "execute_result"
        },
        {
          "data": {
            "image/png": "[encoded data removed]",
            "text/plain": [
              "<Figure size 800x600 with 1 Axes>"
            ]
          },
          "metadata": {},
          "output_type": "display_data"
        }
      ],
      "source": [
        "plt.figure(figsize=(8,6))\n",
        "scatter = plt.scatter(LL[:,0],LL[:,1],c=iris['target'], cmap='plasma')\n",
        "plt.legend(*scatter.legend_elements())\n",
        "plt.xlabel('LL sepal length')\n",
        "plt.ylabel('LL sepal width')\n",
        "\n",
        "# Blue: Setosa\n",
        "# Pink: Versicolor\n",
        "# Yellow: Virginica"
      ]
    },
    {
      "cell_type": "code",
      "execution_count": 112,
      "metadata": {
        "colab": {
          "base_uri": "https://localhost:8080/",
          "height": 406
        },
        "id": "kh2MscrO8ZzN",
        "outputId": "baa7ee64-b0db-499c-80f7-371f5ccad392"
      },
      "outputs": [
        {
          "data": {
            "text/plain": [
              "Text(0, 0.5, 'Original petal width')"
            ]
          },
          "execution_count": 112,
          "metadata": {},
          "output_type": "execute_result"
        },
        {
          "data": {
            "image/png": "[encoded data removed]",
            "text/plain": [
              "<Figure size 800x600 with 1 Axes>"
            ]
          },
          "metadata": {},
          "output_type": "display_data"
        }
      ],
      "source": [
        "plt.figure(figsize=(8,6))\n",
        "scatter = plt.scatter(scaled_data[:,2],scaled_data[:,3],c=iris['target'], cmap='plasma')\n",
        "plt.legend(*scatter.legend_elements())\n",
        "plt.xlabel('Original petal length')\n",
        "plt.ylabel('Original petal width')\n",
        "\n",
        "# Blue: Setosa\n",
        "# Pink: Versicolor\n",
        "# Yellow: Virginica"
      ]
    },
    {
      "cell_type": "code",
      "execution_count": 113,
      "metadata": {
        "colab": {
          "base_uri": "https://localhost:8080/",
          "height": 406
        },
        "id": "NYF6gy9k8eva",
        "outputId": "222f238c-acb4-4836-f547-275d6f3d7f59"
      },
      "outputs": [
        {
          "data": {
            "text/plain": [
              "Text(0, 0.5, 'LL petal width')"
            ]
          },
          "execution_count": 113,
          "metadata": {},
          "output_type": "execute_result"
        },
        {
          "data": {
            "image/png": "[encoded data removed]",
            "text/plain": [
              "<Figure size 800x600 with 1 Axes>"
            ]
          },
          "metadata": {},
          "output_type": "display_data"
        }
      ],
      "source": [
        "plt.figure(figsize=(8,6))\n",
        "scatter = plt.scatter(LL[:,2],LL[:,3],c=iris['target'], cmap='plasma')\n",
        "plt.legend(*scatter.legend_elements())\n",
        "plt.xlabel('LL petal length')\n",
        "plt.ylabel('LL petal width')\n",
        "\n",
        "# Blue: Setosa\n",
        "# Pink: Versicolor\n",
        "# Yellow: Virginica"
      ]
    },
    {
      "cell_type": "markdown",
      "metadata": {
        "id": "-VtIkTJC4qqo"
      },
      "source": [
        "Dari keempat scatter plot, kita dapat lihat bahwa grafik original data dan LL relatif mirip. Hal ini dikarenakan data yang hilang setelah melakukan PCA tidak terlalu signifikan. "
      ]
    },
    {
      "cell_type": "code",
      "execution_count": 114,
      "metadata": {
        "colab": {
          "base_uri": "https://localhost:8080/",
          "height": 406
        },
        "id": "HA72FRs14YIu",
        "outputId": "89ad2e5c-a1ed-4a21-84d3-a7027bc25cd9"
      },
      "outputs": [
        {
          "data": {
            "text/plain": [
              "Text(0, 0.5, 'PCA sepal width')"
            ]
          },
          "execution_count": 114,
          "metadata": {},
          "output_type": "execute_result"
        },
        {
          "data": {
            "image/png": "[encoded data removed]",
            "text/plain": [
              "<Figure size 800x600 with 1 Axes>"
            ]
          },
          "metadata": {},
          "output_type": "display_data"
        }
      ],
      "source": [
        "plt.figure(figsize=(8,6))\n",
        "scatter = plt.scatter(trans_pca[:,0],trans_pca[:,1],c=iris['target'], cmap='plasma')\n",
        "plt.legend(*scatter.legend_elements())\n",
        "plt.xlabel('PCA sepal length')\n",
        "plt.ylabel('PCA sepal width')\n",
        "\n",
        "# Blue: Setosa\n",
        "# Pink: Versicolor\n",
        "# Yellow: Virginica"
      ]
    },
    {
      "cell_type": "code",
      "execution_count": 115,
      "metadata": {
        "colab": {
          "base_uri": "https://localhost:8080/",
          "height": 406
        },
        "id": "bvEzoZXfDoqy",
        "outputId": "bd56291c-6f9e-4ef8-f487-ecea1ede3d22"
      },
      "outputs": [
        {
          "data": {
            "text/plain": [
              "Text(0, 0.5, 'PCA sepal width')"
            ]
          },
          "execution_count": 115,
          "metadata": {},
          "output_type": "execute_result"
        },
        {
          "data": {
            "image/png": "[encoded data removed]",
            "text/plain": [
              "<Figure size 800x600 with 1 Axes>"
            ]
          },
          "metadata": {},
          "output_type": "display_data"
        }
      ],
      "source": [
        "plt.figure(figsize=(8,6))\n",
        "scatter = plt.scatter(trans_pca[:,0],trans_pca[:,0],c=iris['target'], cmap='plasma')\n",
        "plt.legend(*scatter.legend_elements())\n",
        "plt.xlabel('PCA sepal length')\n",
        "plt.ylabel('PCA sepal width')\n",
        "\n",
        "# Blue: Setosa\n",
        "# Pink: Versicolor\n",
        "# Yellow: Virginica"
      ]
    },
    {
      "cell_type": "markdown",
      "metadata": {
        "id": "Bu3Xdp8P8K-O"
      },
      "source": [
        "Sedangkan untuk data yang menggunakan principle components menunjukkan 3 cluster berbeda"
      ]
    },
    {
      "cell_type": "markdown",
      "metadata": {
        "id": "xXgpBNvS0wh3"
      },
      "source": [
        "## SOAL 4"
      ]
    },
    {
      "cell_type": "markdown",
      "metadata": {
        "id": "VnF3ulQ-1CrK"
      },
      "source": [
        "(a) Berdasarkan contoh implementasi PCA diatas, jelaskan tiap step yang dilakukan\n",
        "\n",
        "Pertama, load dataset dan inisialisasi pca, lalu melakukan normalisasi menggunakan standard scaler terhadap data, lalu kita masukkan data yang sudah dinormalisasikan ke pca dan lakukan transformasi untuk mengurangi dimensi dari data, lalu, visualisasikan persentase dari variance setiap komponen. Setelah dilihat visualisasinya, kita lakukan inverse transform untuk mentransformasi komponen data yang dipilih ke ukuran aslinya, pada kasus ini hanya 1 data yang di hilangkan dan sisanya di inverse. Lalu, kita visualisasikan perbandingan scatter plot dari data yang di inverse dan data yang original. Ternyata, grafik data original dan data yang di inverse tidak berbeda jauh karena data yang hilang karena PCA tidak signifikan. Lalu, kita lihat visualisasi dari data yang menggunakan principle componen dan hasilnya menunjukkan 3 cluster yang berbeda."
      ]
    },
    {
      "cell_type": "markdown",
      "metadata": {
        "id": "MBGbqWhu03em"
      },
      "source": [
        "(b) Menurut Anda, kapan PCA perlu dilakukan? \n",
        "\n",
        "Kita perlu melakukan pca untuk menyederhanakan data yang memiliki dimensi yang banyak dan mencari korelasi dari data-data tersebut. Kita juga menjadi lebih mudah dalam melakukan clustering terhadap data agar dapat diproses dan dianalisis dengan lebih mudah."
      ]
    },
    {
      "cell_type": "markdown",
      "metadata": {
        "id": "wRa2ocYV06PT"
      },
      "source": [
        "(c) Menurut Anda, bagaimana hasil transformasi PCA menggunakan 1 dan 2 principal component pada dastaset iris ini? \n",
        "\n",
        "Hasil transformasi PCA saat menggunakan 1 principal component lebih sederhana dan menghasilkan grafik yang linier, meskipun akurasinya berkurang karena tidak menggunakan 75% data, dibandingkan hasil transformasi PCA menggunakan 2 principal component. Namun, hasil tersebut masih mudah untuk di clustering dan akurasi datanya masih cukup besar. Persentase akurasi ketika menggunakan 2 principal component masih sekitar 95% sehingga baik 1 principal component maupun 2 principal component keduanya masih dapat menunjukkan hubungan data dengan lebih sederhana."
      ]
    }
  ],
  "metadata": {
    "colab": {
      "collapsed_sections": [],
      "provenance": []
    },
    "kernelspec": {
      "display_name": "Python 3.10.0 64-bit",
      "language": "python",
      "name": "python3"
    },
    "language_info": {
      "codemirror_mode": {
        "name": "ipython",
        "version": 3
      },
      "file_extension": ".py",
      "mimetype": "text/x-python",
      "name": "python",
      "nbconvert_exporter": "python",
      "pygments_lexer": "ipython3",
      "version": "3.10.0 (tags/v3.10.0:b494f59, Oct  4 2021, 19:00:18) [MSC v.1929 64 bit (AMD64)]"
    },
    "vscode": {
      "interpreter": {
        "hash": "d74960114c2e5d04a77495b49d6433637925ede632b126762ef4bc6304710b18"
      }
    }
  },
  "nbformat": 4,
  "nbformat_minor": 0
}
